{
  "cells": [
    {
      "cell_type": "markdown",
      "metadata": {
        "id": "M7-0S4xezlEf",
        "toc": true
      },
      "source": [
        "<h1>Table of Contents<span class=\"tocSkip\"></span></h1>\n",
        "<div class=\"toc\"><ul class=\"toc-item\"><li><span><a href=\"#Overview\" data-toc-modified-id=\"Overview-1\"><span class=\"toc-item-num\">1&nbsp;&nbsp;</span>Overview</a></span></li><li><span><a href=\"#Notebook-Configuration\" data-toc-modified-id=\"Notebook-Configuration-2\"><span class=\"toc-item-num\">2&nbsp;&nbsp;</span>Notebook Configuration</a></span><ul class=\"toc-item\"><li><span><a href=\"#Reading Data\" data-toc-modified-id=\"Reading Data\"><span class=\"toc-item-num\">2.1&nbsp;&nbsp;</span>Reading Data</a></span></li><li><span><a href=\"#Warning\" data-toc-modified-id=\"Warning-2.2\"><span class=\"toc-item-num\">2.2&nbsp;&nbsp;</span>Warning</a></span></li><li><span><a href=\"#Matplotlib\" data-toc-modified-id=\"Matplotlib-2.3\"><span class=\"toc-item-num\">2.3&nbsp;&nbsp;</span>Matplotlib</a></span></li><li><span><a href=\"#TensorFlow\" data-toc-modified-id=\"TensorFlow-2.4\"><span class=\"toc-item-num\">2.4&nbsp;&nbsp;</span>TensorFlow</a></span></li><li><span><a href=\"#Random-seed\" data-toc-modified-id=\"Random-seed-2.5\"><span class=\"toc-item-num\">2.5&nbsp;&nbsp;</span>Random seed</a></span></li></ul></li><li><span><a href=\"#Data-Preprocessing\" data-toc-modified-id=\"Data-Preprocessing-3\"><span class=\"toc-item-num\">3&nbsp;&nbsp;</span>Data Preprocessing</a></span></li><li><span><a href=\"#Hyperparameter-Tuning\" data-toc-modified-id=\"Hyperparameter-Tuning-4\"><span class=\"toc-item-num\">4&nbsp;&nbsp;</span>Hyperparameter Tuning</a></span></li><li><span><a href=\"#Model-Selection\" data-toc-modified-id=\"Model-Selection-5\"><span class=\"toc-item-num\">5&nbsp;&nbsp;</span>Model Selection</a></span></li><li><span><a href=\"#Generating-the-Submission-File\" data-toc-modified-id=\"Generating-the-Submission-File-6\"><span class=\"toc-item-num\">6&nbsp;&nbsp;</span>Generating the Submission File</a></span><ul class=\"toc-item\"><li><span><a href=\"#Creating-the-directory-for-the-submission-file\" data-toc-modified-id=\"Creating-the-directory-for-the-submission-file-6.1\"><span class=\"toc-item-num\">6.1&nbsp;&nbsp;</span>Creating the directory for the submission file</a></span></li><li><span><a href=\"#Generating-the-submission-file\" data-toc-modified-id=\"Generating-the-submission-file-6.2\"><span class=\"toc-item-num\">6.2&nbsp;&nbsp;</span>Generating the submission file</a></span></li></ul></li></ul></div>"
      ]
    },
    {
      "cell_type": "markdown",
      "metadata": {
        "id": "rT2SKHw2zlEi"
      },
      "source": [
        "# Overview"
      ]
    },
    {
      "cell_type": "markdown",
      "metadata": {
        "id": "WJ-IbZqAgILJ"
      },
      "source": [
        "# Notebook Configuration"
      ]
    },
    {
      "cell_type": "code",
      "execution_count": 1,
      "metadata": {},
      "outputs": [],
      "source": [
        "#imports\n",
        "import pandas as pd\n",
        "import warnings\n",
        "import matplotlib.pyplot as plt\n",
        "import numpy as np\n",
        "import math\n",
        "\n"
      ]
    },
    {
      "cell_type": "markdown",
      "metadata": {
        "id": "bYZhU1Wqgmqx"
      },
      "source": [
        "## Warning"
      ]
    },
    {
      "cell_type": "code",
      "execution_count": 2,
      "metadata": {
        "id": "MUl4k83e4ANR"
      },
      "outputs": [],
      "source": [
        "# Ignore warnings\n",
        "warnings.filterwarnings('ignore')"
      ]
    },
    {
      "cell_type": "markdown",
      "metadata": {
        "id": "40FN3UNfO2Z7"
      },
      "source": [
        "## Random seed"
      ]
    },
    {
      "cell_type": "code",
      "execution_count": 3,
      "metadata": {
        "id": "uSADk0hJP71d"
      },
      "outputs": [],
      "source": [
        "# The random seed\n",
        "random_seed = 42\n",
        "# Set random seed in numpy\n",
        "np.random.seed(random_seed)"
      ]
    },
    {
      "cell_type": "markdown",
      "metadata": {
        "id": "yAwfz8iYzlFC"
      },
      "source": [
        "# Data Preprocessing\n"
      ]
    },
    {
      "cell_type": "code",
      "execution_count": 4,
      "metadata": {
        "id": "bEv7o2B1285j"
      },
      "outputs": [],
      "source": [
        "df_raw_train = pd.read_csv('C:\\\\Users\\\\SRINIVAS\\\\Downloads\\\\ML_ASSIGN_TERMS\\\\NYC_TAXI_TRIP_DURATION\\\\train\\\\train.csv',\n",
        "                           header=0)\n",
        "df_train = df_raw_train.copy(deep=True)\n",
        "\n",
        "df_raw_test = pd.read_csv('C:\\\\Users\\\\SRINIVAS\\\\Downloads\\\\ML_ASSIGN_TERMS\\\\NYC_TAXI_TRIP_DURATION\\\\test\\\\test.csv',\n",
        "                          header=0)\n",
        "df_test = df_raw_test.copy(deep=True)\n",
        "\n",
        "target = 'trip_duration'\n"
      ]
    },
    {
      "cell_type": "code",
      "execution_count": 5,
      "metadata": {},
      "outputs": [
        {
          "name": "stdout",
          "output_type": "stream",
          "text": [
            "Null counts in df_train:\n",
            "id                    0\n",
            "vendor_id             0\n",
            "pickup_datetime       0\n",
            "dropoff_datetime      0\n",
            "passenger_count       0\n",
            "pickup_longitude      0\n",
            "pickup_latitude       0\n",
            "dropoff_longitude     0\n",
            "dropoff_latitude      0\n",
            "store_and_fwd_flag    0\n",
            "trip_duration         0\n",
            "dtype: int64\n",
            "\n",
            "Null counts in df_test:\n",
            "id                    0\n",
            "vendor_id             0\n",
            "pickup_datetime       0\n",
            "passenger_count       0\n",
            "pickup_longitude      0\n",
            "pickup_latitude       0\n",
            "dropoff_longitude     0\n",
            "dropoff_latitude      0\n",
            "store_and_fwd_flag    0\n",
            "dtype: int64\n"
          ]
        }
      ],
      "source": [
        "null_counts_train = df_train.isnull().sum()\n",
        "null_counts_test = df_test.isnull().sum()\n",
        "print(\"Null counts in df_train:\")\n",
        "print(null_counts_train)\n",
        "print(\"\\nNull counts in df_test:\")\n",
        "print(null_counts_test)\n"
      ]
    },
    {
      "cell_type": "code",
      "execution_count": 6,
      "metadata": {
        "colab": {
          "base_uri": "https://localhost:8080/",
          "height": 98
        },
        "id": "x3tjWNy3GbyT",
        "outputId": "e18af113-1ab9-4075-92b1-3556f9e277d1"
      },
      "outputs": [
        {
          "name": "stdout",
          "output_type": "stream",
          "text": [
            "shape of train\n"
          ]
        },
        {
          "data": {
            "text/html": [
              "<div>\n",
              "<style scoped>\n",
              "    .dataframe tbody tr th:only-of-type {\n",
              "        vertical-align: middle;\n",
              "    }\n",
              "\n",
              "    .dataframe tbody tr th {\n",
              "        vertical-align: top;\n",
              "    }\n",
              "\n",
              "    .dataframe thead th {\n",
              "        text-align: right;\n",
              "    }\n",
              "</style>\n",
              "<table border=\"1\" class=\"dataframe\">\n",
              "  <thead>\n",
              "    <tr style=\"text-align: right;\">\n",
              "      <th></th>\n",
              "      <th># rows</th>\n",
              "      <th># columns</th>\n",
              "    </tr>\n",
              "  </thead>\n",
              "  <tbody>\n",
              "    <tr>\n",
              "      <th>0</th>\n",
              "      <td>1458644</td>\n",
              "      <td>11</td>\n",
              "    </tr>\n",
              "  </tbody>\n",
              "</table>\n",
              "</div>"
            ],
            "text/plain": [
              "    # rows  # columns\n",
              "0  1458644         11"
            ]
          },
          "execution_count": 6,
          "metadata": {},
          "output_type": "execute_result"
        }
      ],
      "source": [
        "print('shape of train')\n",
        "pd.DataFrame([[df_train.shape[0], df_train.shape[1]]], columns=['# rows', '# columns'])"
      ]
    },
    {
      "cell_type": "code",
      "execution_count": 7,
      "metadata": {
        "colab": {
          "base_uri": "https://localhost:8080/",
          "height": 98
        },
        "id": "4fVAC_4ZGc7a",
        "outputId": "37054cfa-da8a-4221-c51d-9b6837190d88"
      },
      "outputs": [
        {
          "name": "stdout",
          "output_type": "stream",
          "text": [
            "shape of test\n"
          ]
        },
        {
          "data": {
            "text/html": [
              "<div>\n",
              "<style scoped>\n",
              "    .dataframe tbody tr th:only-of-type {\n",
              "        vertical-align: middle;\n",
              "    }\n",
              "\n",
              "    .dataframe tbody tr th {\n",
              "        vertical-align: top;\n",
              "    }\n",
              "\n",
              "    .dataframe thead th {\n",
              "        text-align: right;\n",
              "    }\n",
              "</style>\n",
              "<table border=\"1\" class=\"dataframe\">\n",
              "  <thead>\n",
              "    <tr style=\"text-align: right;\">\n",
              "      <th></th>\n",
              "      <th># rows</th>\n",
              "      <th># columns</th>\n",
              "    </tr>\n",
              "  </thead>\n",
              "  <tbody>\n",
              "    <tr>\n",
              "      <th>0</th>\n",
              "      <td>1458644</td>\n",
              "      <td>9</td>\n",
              "    </tr>\n",
              "  </tbody>\n",
              "</table>\n",
              "</div>"
            ],
            "text/plain": [
              "    # rows  # columns\n",
              "0  1458644          9"
            ]
          },
          "execution_count": 7,
          "metadata": {},
          "output_type": "execute_result"
        }
      ],
      "source": [
        "print('shape of test')\n",
        "pd.DataFrame([[df_train.shape[0], df_test.shape[1]]], columns=['# rows', '# columns'])"
      ]
    },
    {
      "cell_type": "code",
      "execution_count": 8,
      "metadata": {
        "colab": {
          "base_uri": "https://localhost:8080/",
          "height": 206
        },
        "id": "7SDtLck-IrHS",
        "outputId": "adc61e14-969d-4e6b-ae15-0f71e1b32686"
      },
      "outputs": [
        {
          "data": {
            "text/html": [
              "<div>\n",
              "<style scoped>\n",
              "    .dataframe tbody tr th:only-of-type {\n",
              "        vertical-align: middle;\n",
              "    }\n",
              "\n",
              "    .dataframe tbody tr th {\n",
              "        vertical-align: top;\n",
              "    }\n",
              "\n",
              "    .dataframe thead th {\n",
              "        text-align: right;\n",
              "    }\n",
              "</style>\n",
              "<table border=\"1\" class=\"dataframe\">\n",
              "  <thead>\n",
              "    <tr style=\"text-align: right;\">\n",
              "      <th></th>\n",
              "      <th>id</th>\n",
              "      <th>vendor_id</th>\n",
              "      <th>pickup_datetime</th>\n",
              "      <th>dropoff_datetime</th>\n",
              "      <th>passenger_count</th>\n",
              "      <th>pickup_longitude</th>\n",
              "      <th>pickup_latitude</th>\n",
              "      <th>dropoff_longitude</th>\n",
              "      <th>dropoff_latitude</th>\n",
              "      <th>store_and_fwd_flag</th>\n",
              "      <th>trip_duration</th>\n",
              "    </tr>\n",
              "  </thead>\n",
              "  <tbody>\n",
              "    <tr>\n",
              "      <th>0</th>\n",
              "      <td>id2875421</td>\n",
              "      <td>2</td>\n",
              "      <td>2016-03-14 17:24:55</td>\n",
              "      <td>2016-03-14 17:32:30</td>\n",
              "      <td>1</td>\n",
              "      <td>-73.982155</td>\n",
              "      <td>40.767937</td>\n",
              "      <td>-73.964630</td>\n",
              "      <td>40.765602</td>\n",
              "      <td>N</td>\n",
              "      <td>455</td>\n",
              "    </tr>\n",
              "    <tr>\n",
              "      <th>1</th>\n",
              "      <td>id2377394</td>\n",
              "      <td>1</td>\n",
              "      <td>2016-06-12 00:43:35</td>\n",
              "      <td>2016-06-12 00:54:38</td>\n",
              "      <td>1</td>\n",
              "      <td>-73.980415</td>\n",
              "      <td>40.738564</td>\n",
              "      <td>-73.999481</td>\n",
              "      <td>40.731152</td>\n",
              "      <td>N</td>\n",
              "      <td>663</td>\n",
              "    </tr>\n",
              "    <tr>\n",
              "      <th>2</th>\n",
              "      <td>id3858529</td>\n",
              "      <td>2</td>\n",
              "      <td>2016-01-19 11:35:24</td>\n",
              "      <td>2016-01-19 12:10:48</td>\n",
              "      <td>1</td>\n",
              "      <td>-73.979027</td>\n",
              "      <td>40.763939</td>\n",
              "      <td>-74.005333</td>\n",
              "      <td>40.710087</td>\n",
              "      <td>N</td>\n",
              "      <td>2124</td>\n",
              "    </tr>\n",
              "    <tr>\n",
              "      <th>3</th>\n",
              "      <td>id3504673</td>\n",
              "      <td>2</td>\n",
              "      <td>2016-04-06 19:32:31</td>\n",
              "      <td>2016-04-06 19:39:40</td>\n",
              "      <td>1</td>\n",
              "      <td>-74.010040</td>\n",
              "      <td>40.719971</td>\n",
              "      <td>-74.012268</td>\n",
              "      <td>40.706718</td>\n",
              "      <td>N</td>\n",
              "      <td>429</td>\n",
              "    </tr>\n",
              "    <tr>\n",
              "      <th>4</th>\n",
              "      <td>id2181028</td>\n",
              "      <td>2</td>\n",
              "      <td>2016-03-26 13:30:55</td>\n",
              "      <td>2016-03-26 13:38:10</td>\n",
              "      <td>1</td>\n",
              "      <td>-73.973053</td>\n",
              "      <td>40.793209</td>\n",
              "      <td>-73.972923</td>\n",
              "      <td>40.782520</td>\n",
              "      <td>N</td>\n",
              "      <td>435</td>\n",
              "    </tr>\n",
              "  </tbody>\n",
              "</table>\n",
              "</div>"
            ],
            "text/plain": [
              "          id  vendor_id      pickup_datetime     dropoff_datetime  \\\n",
              "0  id2875421          2  2016-03-14 17:24:55  2016-03-14 17:32:30   \n",
              "1  id2377394          1  2016-06-12 00:43:35  2016-06-12 00:54:38   \n",
              "2  id3858529          2  2016-01-19 11:35:24  2016-01-19 12:10:48   \n",
              "3  id3504673          2  2016-04-06 19:32:31  2016-04-06 19:39:40   \n",
              "4  id2181028          2  2016-03-26 13:30:55  2016-03-26 13:38:10   \n",
              "\n",
              "   passenger_count  pickup_longitude  pickup_latitude  dropoff_longitude  \\\n",
              "0                1        -73.982155        40.767937         -73.964630   \n",
              "1                1        -73.980415        40.738564         -73.999481   \n",
              "2                1        -73.979027        40.763939         -74.005333   \n",
              "3                1        -74.010040        40.719971         -74.012268   \n",
              "4                1        -73.973053        40.793209         -73.972923   \n",
              "\n",
              "   dropoff_latitude store_and_fwd_flag  trip_duration  \n",
              "0         40.765602                  N            455  \n",
              "1         40.731152                  N            663  \n",
              "2         40.710087                  N           2124  \n",
              "3         40.706718                  N            429  \n",
              "4         40.782520                  N            435  "
            ]
          },
          "execution_count": 8,
          "metadata": {},
          "output_type": "execute_result"
        }
      ],
      "source": [
        "df_train.head()\n"
      ]
    },
    {
      "cell_type": "code",
      "execution_count": 9,
      "metadata": {
        "colab": {
          "base_uri": "https://localhost:8080/",
          "height": 206
        },
        "id": "j2q28r15It8i",
        "outputId": "f7b7fc77-8718-43a3-a350-bfd408c73be0"
      },
      "outputs": [
        {
          "data": {
            "text/html": [
              "<div>\n",
              "<style scoped>\n",
              "    .dataframe tbody tr th:only-of-type {\n",
              "        vertical-align: middle;\n",
              "    }\n",
              "\n",
              "    .dataframe tbody tr th {\n",
              "        vertical-align: top;\n",
              "    }\n",
              "\n",
              "    .dataframe thead th {\n",
              "        text-align: right;\n",
              "    }\n",
              "</style>\n",
              "<table border=\"1\" class=\"dataframe\">\n",
              "  <thead>\n",
              "    <tr style=\"text-align: right;\">\n",
              "      <th></th>\n",
              "      <th>id</th>\n",
              "      <th>vendor_id</th>\n",
              "      <th>pickup_datetime</th>\n",
              "      <th>passenger_count</th>\n",
              "      <th>pickup_longitude</th>\n",
              "      <th>pickup_latitude</th>\n",
              "      <th>dropoff_longitude</th>\n",
              "      <th>dropoff_latitude</th>\n",
              "      <th>store_and_fwd_flag</th>\n",
              "    </tr>\n",
              "  </thead>\n",
              "  <tbody>\n",
              "    <tr>\n",
              "      <th>0</th>\n",
              "      <td>id3004672</td>\n",
              "      <td>1</td>\n",
              "      <td>2016-06-30 23:59:58</td>\n",
              "      <td>1</td>\n",
              "      <td>-73.988129</td>\n",
              "      <td>40.732029</td>\n",
              "      <td>-73.990173</td>\n",
              "      <td>40.756680</td>\n",
              "      <td>N</td>\n",
              "    </tr>\n",
              "    <tr>\n",
              "      <th>1</th>\n",
              "      <td>id3505355</td>\n",
              "      <td>1</td>\n",
              "      <td>2016-06-30 23:59:53</td>\n",
              "      <td>1</td>\n",
              "      <td>-73.964203</td>\n",
              "      <td>40.679993</td>\n",
              "      <td>-73.959808</td>\n",
              "      <td>40.655403</td>\n",
              "      <td>N</td>\n",
              "    </tr>\n",
              "    <tr>\n",
              "      <th>2</th>\n",
              "      <td>id1217141</td>\n",
              "      <td>1</td>\n",
              "      <td>2016-06-30 23:59:47</td>\n",
              "      <td>1</td>\n",
              "      <td>-73.997437</td>\n",
              "      <td>40.737583</td>\n",
              "      <td>-73.986160</td>\n",
              "      <td>40.729523</td>\n",
              "      <td>N</td>\n",
              "    </tr>\n",
              "    <tr>\n",
              "      <th>3</th>\n",
              "      <td>id2150126</td>\n",
              "      <td>2</td>\n",
              "      <td>2016-06-30 23:59:41</td>\n",
              "      <td>1</td>\n",
              "      <td>-73.956070</td>\n",
              "      <td>40.771900</td>\n",
              "      <td>-73.986427</td>\n",
              "      <td>40.730469</td>\n",
              "      <td>N</td>\n",
              "    </tr>\n",
              "    <tr>\n",
              "      <th>4</th>\n",
              "      <td>id1598245</td>\n",
              "      <td>1</td>\n",
              "      <td>2016-06-30 23:59:33</td>\n",
              "      <td>1</td>\n",
              "      <td>-73.970215</td>\n",
              "      <td>40.761475</td>\n",
              "      <td>-73.961510</td>\n",
              "      <td>40.755890</td>\n",
              "      <td>N</td>\n",
              "    </tr>\n",
              "  </tbody>\n",
              "</table>\n",
              "</div>"
            ],
            "text/plain": [
              "          id  vendor_id      pickup_datetime  passenger_count  \\\n",
              "0  id3004672          1  2016-06-30 23:59:58                1   \n",
              "1  id3505355          1  2016-06-30 23:59:53                1   \n",
              "2  id1217141          1  2016-06-30 23:59:47                1   \n",
              "3  id2150126          2  2016-06-30 23:59:41                1   \n",
              "4  id1598245          1  2016-06-30 23:59:33                1   \n",
              "\n",
              "   pickup_longitude  pickup_latitude  dropoff_longitude  dropoff_latitude  \\\n",
              "0        -73.988129        40.732029         -73.990173         40.756680   \n",
              "1        -73.964203        40.679993         -73.959808         40.655403   \n",
              "2        -73.997437        40.737583         -73.986160         40.729523   \n",
              "3        -73.956070        40.771900         -73.986427         40.730469   \n",
              "4        -73.970215        40.761475         -73.961510         40.755890   \n",
              "\n",
              "  store_and_fwd_flag  \n",
              "0                  N  \n",
              "1                  N  \n",
              "2                  N  \n",
              "3                  N  \n",
              "4                  N  "
            ]
          },
          "execution_count": 9,
          "metadata": {},
          "output_type": "execute_result"
        }
      ],
      "source": [
        "df_test.head()\n"
      ]
    },
    {
      "cell_type": "code",
      "execution_count": 10,
      "metadata": {
        "id": "IFSjx8SsGc4X"
      },
      "outputs": [],
      "source": [
        "from sklearn.model_selection import train_test_split\n",
        "\n",
        "df_train, df_val = train_test_split(df_train, train_size=0.8, random_state=random_seed)\n",
        "df_train, df_val = df_train.reset_index(drop=True), df_val.reset_index(drop=True)"
      ]
    },
    {
      "cell_type": "code",
      "execution_count": 11,
      "metadata": {
        "colab": {
          "base_uri": "https://localhost:8080/",
          "height": 98
        },
        "id": "pfpL8O7RGctz",
        "outputId": "0065afe3-0378-44e1-c3a7-fc2cbfe7a8cb"
      },
      "outputs": [
        {
          "name": "stdout",
          "output_type": "stream",
          "text": [
            "shape of train\n"
          ]
        },
        {
          "data": {
            "text/html": [
              "<div>\n",
              "<style scoped>\n",
              "    .dataframe tbody tr th:only-of-type {\n",
              "        vertical-align: middle;\n",
              "    }\n",
              "\n",
              "    .dataframe tbody tr th {\n",
              "        vertical-align: top;\n",
              "    }\n",
              "\n",
              "    .dataframe thead th {\n",
              "        text-align: right;\n",
              "    }\n",
              "</style>\n",
              "<table border=\"1\" class=\"dataframe\">\n",
              "  <thead>\n",
              "    <tr style=\"text-align: right;\">\n",
              "      <th></th>\n",
              "      <th># rows</th>\n",
              "      <th># columns</th>\n",
              "    </tr>\n",
              "  </thead>\n",
              "  <tbody>\n",
              "    <tr>\n",
              "      <th>0</th>\n",
              "      <td>1166915</td>\n",
              "      <td>11</td>\n",
              "    </tr>\n",
              "  </tbody>\n",
              "</table>\n",
              "</div>"
            ],
            "text/plain": [
              "    # rows  # columns\n",
              "0  1166915         11"
            ]
          },
          "execution_count": 11,
          "metadata": {},
          "output_type": "execute_result"
        }
      ],
      "source": [
        "print('shape of train')\n",
        "pd.DataFrame([[df_train.shape[0], df_train.shape[1]]], columns=['# rows', '# columns'])\n"
      ]
    },
    {
      "cell_type": "code",
      "execution_count": 12,
      "metadata": {
        "colab": {
          "base_uri": "https://localhost:8080/",
          "height": 98
        },
        "id": "lDVouCMBGckL",
        "outputId": "f07fce8f-949c-48d6-e7b4-c847856f3d2a"
      },
      "outputs": [
        {
          "name": "stdout",
          "output_type": "stream",
          "text": [
            "shape of Val\n"
          ]
        },
        {
          "data": {
            "text/html": [
              "<div>\n",
              "<style scoped>\n",
              "    .dataframe tbody tr th:only-of-type {\n",
              "        vertical-align: middle;\n",
              "    }\n",
              "\n",
              "    .dataframe tbody tr th {\n",
              "        vertical-align: top;\n",
              "    }\n",
              "\n",
              "    .dataframe thead th {\n",
              "        text-align: right;\n",
              "    }\n",
              "</style>\n",
              "<table border=\"1\" class=\"dataframe\">\n",
              "  <thead>\n",
              "    <tr style=\"text-align: right;\">\n",
              "      <th></th>\n",
              "      <th># rows</th>\n",
              "      <th># columns</th>\n",
              "    </tr>\n",
              "  </thead>\n",
              "  <tbody>\n",
              "    <tr>\n",
              "      <th>0</th>\n",
              "      <td>291729</td>\n",
              "      <td>11</td>\n",
              "    </tr>\n",
              "  </tbody>\n",
              "</table>\n",
              "</div>"
            ],
            "text/plain": [
              "   # rows  # columns\n",
              "0  291729         11"
            ]
          },
          "execution_count": 12,
          "metadata": {},
          "output_type": "execute_result"
        }
      ],
      "source": [
        "print('shape of Val')\n",
        "pd.DataFrame([[df_val.shape[0], df_train.shape[1]]], columns=['# rows', '# columns'])\n"
      ]
    },
    {
      "cell_type": "code",
      "execution_count": 13,
      "metadata": {
        "colab": {
          "base_uri": "https://localhost:8080/",
          "height": 206
        },
        "id": "BtpLbyghKvQN",
        "outputId": "b529957e-be53-4ac7-d3c7-1f69c625c0a9"
      },
      "outputs": [
        {
          "data": {
            "text/html": [
              "<div>\n",
              "<style scoped>\n",
              "    .dataframe tbody tr th:only-of-type {\n",
              "        vertical-align: middle;\n",
              "    }\n",
              "\n",
              "    .dataframe tbody tr th {\n",
              "        vertical-align: top;\n",
              "    }\n",
              "\n",
              "    .dataframe thead th {\n",
              "        text-align: right;\n",
              "    }\n",
              "</style>\n",
              "<table border=\"1\" class=\"dataframe\">\n",
              "  <thead>\n",
              "    <tr style=\"text-align: right;\">\n",
              "      <th></th>\n",
              "      <th>id</th>\n",
              "      <th>vendor_id</th>\n",
              "      <th>pickup_datetime</th>\n",
              "      <th>dropoff_datetime</th>\n",
              "      <th>passenger_count</th>\n",
              "      <th>pickup_longitude</th>\n",
              "      <th>pickup_latitude</th>\n",
              "      <th>dropoff_longitude</th>\n",
              "      <th>dropoff_latitude</th>\n",
              "      <th>store_and_fwd_flag</th>\n",
              "      <th>trip_duration</th>\n",
              "    </tr>\n",
              "  </thead>\n",
              "  <tbody>\n",
              "    <tr>\n",
              "      <th>0</th>\n",
              "      <td>id0458976</td>\n",
              "      <td>2</td>\n",
              "      <td>2016-06-29 18:21:02</td>\n",
              "      <td>2016-06-29 18:39:55</td>\n",
              "      <td>1</td>\n",
              "      <td>-73.862762</td>\n",
              "      <td>40.768822</td>\n",
              "      <td>-73.891701</td>\n",
              "      <td>40.746689</td>\n",
              "      <td>N</td>\n",
              "      <td>1133</td>\n",
              "    </tr>\n",
              "    <tr>\n",
              "      <th>1</th>\n",
              "      <td>id0434613</td>\n",
              "      <td>2</td>\n",
              "      <td>2016-04-25 13:03:26</td>\n",
              "      <td>2016-04-25 13:18:13</td>\n",
              "      <td>1</td>\n",
              "      <td>-73.958038</td>\n",
              "      <td>40.783237</td>\n",
              "      <td>-73.975510</td>\n",
              "      <td>40.760853</td>\n",
              "      <td>N</td>\n",
              "      <td>887</td>\n",
              "    </tr>\n",
              "    <tr>\n",
              "      <th>2</th>\n",
              "      <td>id3809234</td>\n",
              "      <td>2</td>\n",
              "      <td>2016-05-07 12:36:09</td>\n",
              "      <td>2016-05-07 12:47:35</td>\n",
              "      <td>1</td>\n",
              "      <td>-73.969460</td>\n",
              "      <td>40.785519</td>\n",
              "      <td>-73.989243</td>\n",
              "      <td>40.771748</td>\n",
              "      <td>N</td>\n",
              "      <td>686</td>\n",
              "    </tr>\n",
              "    <tr>\n",
              "      <th>3</th>\n",
              "      <td>id1203705</td>\n",
              "      <td>1</td>\n",
              "      <td>2016-05-14 18:44:17</td>\n",
              "      <td>2016-05-14 18:57:55</td>\n",
              "      <td>1</td>\n",
              "      <td>-73.981743</td>\n",
              "      <td>40.736549</td>\n",
              "      <td>-73.998352</td>\n",
              "      <td>40.726440</td>\n",
              "      <td>N</td>\n",
              "      <td>818</td>\n",
              "    </tr>\n",
              "    <tr>\n",
              "      <th>4</th>\n",
              "      <td>id1896645</td>\n",
              "      <td>2</td>\n",
              "      <td>2016-04-10 22:51:25</td>\n",
              "      <td>2016-04-10 23:07:16</td>\n",
              "      <td>1</td>\n",
              "      <td>-73.977913</td>\n",
              "      <td>40.752609</td>\n",
              "      <td>-73.975647</td>\n",
              "      <td>40.733139</td>\n",
              "      <td>N</td>\n",
              "      <td>951</td>\n",
              "    </tr>\n",
              "  </tbody>\n",
              "</table>\n",
              "</div>"
            ],
            "text/plain": [
              "          id  vendor_id      pickup_datetime     dropoff_datetime  \\\n",
              "0  id0458976          2  2016-06-29 18:21:02  2016-06-29 18:39:55   \n",
              "1  id0434613          2  2016-04-25 13:03:26  2016-04-25 13:18:13   \n",
              "2  id3809234          2  2016-05-07 12:36:09  2016-05-07 12:47:35   \n",
              "3  id1203705          1  2016-05-14 18:44:17  2016-05-14 18:57:55   \n",
              "4  id1896645          2  2016-04-10 22:51:25  2016-04-10 23:07:16   \n",
              "\n",
              "   passenger_count  pickup_longitude  pickup_latitude  dropoff_longitude  \\\n",
              "0                1        -73.862762        40.768822         -73.891701   \n",
              "1                1        -73.958038        40.783237         -73.975510   \n",
              "2                1        -73.969460        40.785519         -73.989243   \n",
              "3                1        -73.981743        40.736549         -73.998352   \n",
              "4                1        -73.977913        40.752609         -73.975647   \n",
              "\n",
              "   dropoff_latitude store_and_fwd_flag  trip_duration  \n",
              "0         40.746689                  N           1133  \n",
              "1         40.760853                  N            887  \n",
              "2         40.771748                  N            686  \n",
              "3         40.726440                  N            818  \n",
              "4         40.733139                  N            951  "
            ]
          },
          "execution_count": 13,
          "metadata": {},
          "output_type": "execute_result"
        }
      ],
      "source": [
        "df_train.head()\n"
      ]
    },
    {
      "cell_type": "code",
      "execution_count": 14,
      "metadata": {
        "colab": {
          "base_uri": "https://localhost:8080/",
          "height": 206
        },
        "id": "REK9yh09KyiJ",
        "outputId": "a1901096-23f8-4ebd-d353-0c7a71a39076"
      },
      "outputs": [
        {
          "data": {
            "text/html": [
              "<div>\n",
              "<style scoped>\n",
              "    .dataframe tbody tr th:only-of-type {\n",
              "        vertical-align: middle;\n",
              "    }\n",
              "\n",
              "    .dataframe tbody tr th {\n",
              "        vertical-align: top;\n",
              "    }\n",
              "\n",
              "    .dataframe thead th {\n",
              "        text-align: right;\n",
              "    }\n",
              "</style>\n",
              "<table border=\"1\" class=\"dataframe\">\n",
              "  <thead>\n",
              "    <tr style=\"text-align: right;\">\n",
              "      <th></th>\n",
              "      <th>id</th>\n",
              "      <th>vendor_id</th>\n",
              "      <th>pickup_datetime</th>\n",
              "      <th>dropoff_datetime</th>\n",
              "      <th>passenger_count</th>\n",
              "      <th>pickup_longitude</th>\n",
              "      <th>pickup_latitude</th>\n",
              "      <th>dropoff_longitude</th>\n",
              "      <th>dropoff_latitude</th>\n",
              "      <th>store_and_fwd_flag</th>\n",
              "      <th>trip_duration</th>\n",
              "    </tr>\n",
              "  </thead>\n",
              "  <tbody>\n",
              "    <tr>\n",
              "      <th>0</th>\n",
              "      <td>id2793718</td>\n",
              "      <td>2</td>\n",
              "      <td>2016-06-08 07:36:19</td>\n",
              "      <td>2016-06-08 07:53:39</td>\n",
              "      <td>1</td>\n",
              "      <td>-73.985611</td>\n",
              "      <td>40.735943</td>\n",
              "      <td>-73.980331</td>\n",
              "      <td>40.760468</td>\n",
              "      <td>N</td>\n",
              "      <td>1040</td>\n",
              "    </tr>\n",
              "    <tr>\n",
              "      <th>1</th>\n",
              "      <td>id3485529</td>\n",
              "      <td>2</td>\n",
              "      <td>2016-04-03 12:58:11</td>\n",
              "      <td>2016-04-03 13:11:58</td>\n",
              "      <td>1</td>\n",
              "      <td>-73.978394</td>\n",
              "      <td>40.764351</td>\n",
              "      <td>-73.991623</td>\n",
              "      <td>40.749859</td>\n",
              "      <td>N</td>\n",
              "      <td>827</td>\n",
              "    </tr>\n",
              "    <tr>\n",
              "      <th>2</th>\n",
              "      <td>id1816614</td>\n",
              "      <td>2</td>\n",
              "      <td>2016-06-05 02:49:13</td>\n",
              "      <td>2016-06-05 02:59:27</td>\n",
              "      <td>5</td>\n",
              "      <td>-73.989059</td>\n",
              "      <td>40.744389</td>\n",
              "      <td>-73.973381</td>\n",
              "      <td>40.748692</td>\n",
              "      <td>N</td>\n",
              "      <td>614</td>\n",
              "    </tr>\n",
              "    <tr>\n",
              "      <th>3</th>\n",
              "      <td>id1050851</td>\n",
              "      <td>2</td>\n",
              "      <td>2016-05-05 17:18:27</td>\n",
              "      <td>2016-05-05 17:32:54</td>\n",
              "      <td>2</td>\n",
              "      <td>-73.990326</td>\n",
              "      <td>40.731136</td>\n",
              "      <td>-73.991264</td>\n",
              "      <td>40.748917</td>\n",
              "      <td>N</td>\n",
              "      <td>867</td>\n",
              "    </tr>\n",
              "    <tr>\n",
              "      <th>4</th>\n",
              "      <td>id0140657</td>\n",
              "      <td>1</td>\n",
              "      <td>2016-05-12 17:43:38</td>\n",
              "      <td>2016-05-12 19:06:25</td>\n",
              "      <td>4</td>\n",
              "      <td>-73.789497</td>\n",
              "      <td>40.646675</td>\n",
              "      <td>-73.987137</td>\n",
              "      <td>40.759232</td>\n",
              "      <td>N</td>\n",
              "      <td>4967</td>\n",
              "    </tr>\n",
              "  </tbody>\n",
              "</table>\n",
              "</div>"
            ],
            "text/plain": [
              "          id  vendor_id      pickup_datetime     dropoff_datetime  \\\n",
              "0  id2793718          2  2016-06-08 07:36:19  2016-06-08 07:53:39   \n",
              "1  id3485529          2  2016-04-03 12:58:11  2016-04-03 13:11:58   \n",
              "2  id1816614          2  2016-06-05 02:49:13  2016-06-05 02:59:27   \n",
              "3  id1050851          2  2016-05-05 17:18:27  2016-05-05 17:32:54   \n",
              "4  id0140657          1  2016-05-12 17:43:38  2016-05-12 19:06:25   \n",
              "\n",
              "   passenger_count  pickup_longitude  pickup_latitude  dropoff_longitude  \\\n",
              "0                1        -73.985611        40.735943         -73.980331   \n",
              "1                1        -73.978394        40.764351         -73.991623   \n",
              "2                5        -73.989059        40.744389         -73.973381   \n",
              "3                2        -73.990326        40.731136         -73.991264   \n",
              "4                4        -73.789497        40.646675         -73.987137   \n",
              "\n",
              "   dropoff_latitude store_and_fwd_flag  trip_duration  \n",
              "0         40.760468                  N           1040  \n",
              "1         40.749859                  N            827  \n",
              "2         40.748692                  N            614  \n",
              "3         40.748917                  N            867  \n",
              "4         40.759232                  N           4967  "
            ]
          },
          "execution_count": 14,
          "metadata": {},
          "output_type": "execute_result"
        }
      ],
      "source": [
        "df_val.head()\n"
      ]
    },
    {
      "cell_type": "code",
      "execution_count": 15,
      "metadata": {},
      "outputs": [],
      "source": [
        "def common_var_checker(df_train, df_val, df_test, target):\n",
        "    \"\"\"\n",
        "    The common variables checker\n",
        "\n",
        "    \"\"\"    \n",
        "    df_common_var = pd.DataFrame(np.intersect1d(np.intersect1d(df_train.columns, df_val.columns), np.union1d(df_test.columns, [target])),\n",
        "                                 columns=['common var'])\n",
        "                \n",
        "    return df_common_var"
      ]
    },
    {
      "cell_type": "code",
      "execution_count": 16,
      "metadata": {
        "colab": {
          "base_uri": "https://localhost:8080/",
          "height": 363
        },
        "id": "hM2JgLXnGccr",
        "outputId": "999ef746-1c84-492e-dcbd-2fbca7b297f9"
      },
      "outputs": [
        {
          "data": {
            "text/html": [
              "<div>\n",
              "<style scoped>\n",
              "    .dataframe tbody tr th:only-of-type {\n",
              "        vertical-align: middle;\n",
              "    }\n",
              "\n",
              "    .dataframe tbody tr th {\n",
              "        vertical-align: top;\n",
              "    }\n",
              "\n",
              "    .dataframe thead th {\n",
              "        text-align: right;\n",
              "    }\n",
              "</style>\n",
              "<table border=\"1\" class=\"dataframe\">\n",
              "  <thead>\n",
              "    <tr style=\"text-align: right;\">\n",
              "      <th></th>\n",
              "      <th>common var</th>\n",
              "    </tr>\n",
              "  </thead>\n",
              "  <tbody>\n",
              "    <tr>\n",
              "      <th>0</th>\n",
              "      <td>dropoff_latitude</td>\n",
              "    </tr>\n",
              "    <tr>\n",
              "      <th>1</th>\n",
              "      <td>dropoff_longitude</td>\n",
              "    </tr>\n",
              "    <tr>\n",
              "      <th>2</th>\n",
              "      <td>id</td>\n",
              "    </tr>\n",
              "    <tr>\n",
              "      <th>3</th>\n",
              "      <td>passenger_count</td>\n",
              "    </tr>\n",
              "    <tr>\n",
              "      <th>4</th>\n",
              "      <td>pickup_datetime</td>\n",
              "    </tr>\n",
              "    <tr>\n",
              "      <th>5</th>\n",
              "      <td>pickup_latitude</td>\n",
              "    </tr>\n",
              "    <tr>\n",
              "      <th>6</th>\n",
              "      <td>pickup_longitude</td>\n",
              "    </tr>\n",
              "    <tr>\n",
              "      <th>7</th>\n",
              "      <td>store_and_fwd_flag</td>\n",
              "    </tr>\n",
              "    <tr>\n",
              "      <th>8</th>\n",
              "      <td>trip_duration</td>\n",
              "    </tr>\n",
              "    <tr>\n",
              "      <th>9</th>\n",
              "      <td>vendor_id</td>\n",
              "    </tr>\n",
              "  </tbody>\n",
              "</table>\n",
              "</div>"
            ],
            "text/plain": [
              "           common var\n",
              "0    dropoff_latitude\n",
              "1   dropoff_longitude\n",
              "2                  id\n",
              "3     passenger_count\n",
              "4     pickup_datetime\n",
              "5     pickup_latitude\n",
              "6    pickup_longitude\n",
              "7  store_and_fwd_flag\n",
              "8       trip_duration\n",
              "9           vendor_id"
            ]
          },
          "execution_count": 16,
          "metadata": {},
          "output_type": "execute_result"
        }
      ],
      "source": [
        "df_common_var = common_var_checker(df_train, df_val, df_test, target)\n",
        "df_common_var"
      ]
    },
    {
      "cell_type": "code",
      "execution_count": 17,
      "metadata": {
        "colab": {
          "base_uri": "https://localhost:8080/",
          "height": 80
        },
        "id": "vdD2EpKlGcQL",
        "outputId": "0b50862d-1873-4137-a9df-1a6af1e9425a"
      },
      "outputs": [
        {
          "data": {
            "text/html": [
              "<div>\n",
              "<style scoped>\n",
              "    .dataframe tbody tr th:only-of-type {\n",
              "        vertical-align: middle;\n",
              "    }\n",
              "\n",
              "    .dataframe tbody tr th {\n",
              "        vertical-align: top;\n",
              "    }\n",
              "\n",
              "    .dataframe thead th {\n",
              "        text-align: right;\n",
              "    }\n",
              "</style>\n",
              "<table border=\"1\" class=\"dataframe\">\n",
              "  <thead>\n",
              "    <tr style=\"text-align: right;\">\n",
              "      <th></th>\n",
              "      <th>uncommon feature</th>\n",
              "    </tr>\n",
              "  </thead>\n",
              "  <tbody>\n",
              "    <tr>\n",
              "      <th>0</th>\n",
              "      <td>dropoff_datetime</td>\n",
              "    </tr>\n",
              "  </tbody>\n",
              "</table>\n",
              "</div>"
            ],
            "text/plain": [
              "   uncommon feature\n",
              "0  dropoff_datetime"
            ]
          },
          "execution_count": 17,
          "metadata": {},
          "output_type": "execute_result"
        }
      ],
      "source": [
        "# Get the features in the training data but not in the validation or test data\n",
        "uncommon_feature_train_not_val_test = np.setdiff1d(df_train.columns, df_common_var['common var'])\n",
        "pd.DataFrame(uncommon_feature_train_not_val_test, columns=['uncommon feature'])"
      ]
    },
    {
      "cell_type": "code",
      "execution_count": 18,
      "metadata": {
        "colab": {
          "base_uri": "https://localhost:8080/",
          "height": 80
        },
        "id": "e45ayQH9LMgA",
        "outputId": "51519027-95a5-4088-cd8a-86922a1b9b6c"
      },
      "outputs": [
        {
          "data": {
            "text/html": [
              "<div>\n",
              "<style scoped>\n",
              "    .dataframe tbody tr th:only-of-type {\n",
              "        vertical-align: middle;\n",
              "    }\n",
              "\n",
              "    .dataframe tbody tr th {\n",
              "        vertical-align: top;\n",
              "    }\n",
              "\n",
              "    .dataframe thead th {\n",
              "        text-align: right;\n",
              "    }\n",
              "</style>\n",
              "<table border=\"1\" class=\"dataframe\">\n",
              "  <thead>\n",
              "    <tr style=\"text-align: right;\">\n",
              "      <th></th>\n",
              "      <th>uncommon feature</th>\n",
              "    </tr>\n",
              "  </thead>\n",
              "  <tbody>\n",
              "    <tr>\n",
              "      <th>0</th>\n",
              "      <td>dropoff_datetime</td>\n",
              "    </tr>\n",
              "  </tbody>\n",
              "</table>\n",
              "</div>"
            ],
            "text/plain": [
              "   uncommon feature\n",
              "0  dropoff_datetime"
            ]
          },
          "execution_count": 18,
          "metadata": {},
          "output_type": "execute_result"
        }
      ],
      "source": [
        "uncommon_feature_val_not_train_test = np.setdiff1d(df_val.columns, df_common_var['common var'])\n",
        "pd.DataFrame(uncommon_feature_val_not_train_test, columns=['uncommon feature'])"
      ]
    },
    {
      "cell_type": "code",
      "execution_count": 19,
      "metadata": {
        "colab": {
          "base_uri": "https://localhost:8080/",
          "height": 53
        },
        "id": "unele2sDLRWQ",
        "outputId": "b321567e-2b2a-47ca-a524-38071735bdde"
      },
      "outputs": [
        {
          "data": {
            "text/html": [
              "<div>\n",
              "<style scoped>\n",
              "    .dataframe tbody tr th:only-of-type {\n",
              "        vertical-align: middle;\n",
              "    }\n",
              "\n",
              "    .dataframe tbody tr th {\n",
              "        vertical-align: top;\n",
              "    }\n",
              "\n",
              "    .dataframe thead th {\n",
              "        text-align: right;\n",
              "    }\n",
              "</style>\n",
              "<table border=\"1\" class=\"dataframe\">\n",
              "  <thead>\n",
              "    <tr style=\"text-align: right;\">\n",
              "      <th></th>\n",
              "      <th>uncommon feature</th>\n",
              "    </tr>\n",
              "  </thead>\n",
              "  <tbody>\n",
              "  </tbody>\n",
              "</table>\n",
              "</div>"
            ],
            "text/plain": [
              "Empty DataFrame\n",
              "Columns: [uncommon feature]\n",
              "Index: []"
            ]
          },
          "execution_count": 19,
          "metadata": {},
          "output_type": "execute_result"
        }
      ],
      "source": [
        "# Get the features in the test data but not in the training or validation data\n",
        "uncommon_feature_test_not_train_val = np.setdiff1d(df_test.columns, df_common_var['common var'])\n",
        "pd.DataFrame(uncommon_feature_test_not_train_val, columns=['uncommon feature'])"
      ]
    },
    {
      "cell_type": "code",
      "execution_count": 20,
      "metadata": {
        "colab": {
          "base_uri": "https://localhost:8080/",
          "height": 206
        },
        "id": "Drl7IMrgMxLb",
        "outputId": "903a2b03-2ee2-460a-b9c4-1549801fa568"
      },
      "outputs": [
        {
          "data": {
            "text/html": [
              "<div>\n",
              "<style scoped>\n",
              "    .dataframe tbody tr th:only-of-type {\n",
              "        vertical-align: middle;\n",
              "    }\n",
              "\n",
              "    .dataframe tbody tr th {\n",
              "        vertical-align: top;\n",
              "    }\n",
              "\n",
              "    .dataframe thead th {\n",
              "        text-align: right;\n",
              "    }\n",
              "</style>\n",
              "<table border=\"1\" class=\"dataframe\">\n",
              "  <thead>\n",
              "    <tr style=\"text-align: right;\">\n",
              "      <th></th>\n",
              "      <th>id</th>\n",
              "      <th>vendor_id</th>\n",
              "      <th>pickup_datetime</th>\n",
              "      <th>passenger_count</th>\n",
              "      <th>pickup_longitude</th>\n",
              "      <th>pickup_latitude</th>\n",
              "      <th>dropoff_longitude</th>\n",
              "      <th>dropoff_latitude</th>\n",
              "      <th>store_and_fwd_flag</th>\n",
              "      <th>trip_duration</th>\n",
              "    </tr>\n",
              "  </thead>\n",
              "  <tbody>\n",
              "    <tr>\n",
              "      <th>0</th>\n",
              "      <td>id0458976</td>\n",
              "      <td>2</td>\n",
              "      <td>2016-06-29 18:21:02</td>\n",
              "      <td>1</td>\n",
              "      <td>-73.862762</td>\n",
              "      <td>40.768822</td>\n",
              "      <td>-73.891701</td>\n",
              "      <td>40.746689</td>\n",
              "      <td>N</td>\n",
              "      <td>1133</td>\n",
              "    </tr>\n",
              "    <tr>\n",
              "      <th>1</th>\n",
              "      <td>id0434613</td>\n",
              "      <td>2</td>\n",
              "      <td>2016-04-25 13:03:26</td>\n",
              "      <td>1</td>\n",
              "      <td>-73.958038</td>\n",
              "      <td>40.783237</td>\n",
              "      <td>-73.975510</td>\n",
              "      <td>40.760853</td>\n",
              "      <td>N</td>\n",
              "      <td>887</td>\n",
              "    </tr>\n",
              "    <tr>\n",
              "      <th>2</th>\n",
              "      <td>id3809234</td>\n",
              "      <td>2</td>\n",
              "      <td>2016-05-07 12:36:09</td>\n",
              "      <td>1</td>\n",
              "      <td>-73.969460</td>\n",
              "      <td>40.785519</td>\n",
              "      <td>-73.989243</td>\n",
              "      <td>40.771748</td>\n",
              "      <td>N</td>\n",
              "      <td>686</td>\n",
              "    </tr>\n",
              "    <tr>\n",
              "      <th>3</th>\n",
              "      <td>id1203705</td>\n",
              "      <td>1</td>\n",
              "      <td>2016-05-14 18:44:17</td>\n",
              "      <td>1</td>\n",
              "      <td>-73.981743</td>\n",
              "      <td>40.736549</td>\n",
              "      <td>-73.998352</td>\n",
              "      <td>40.726440</td>\n",
              "      <td>N</td>\n",
              "      <td>818</td>\n",
              "    </tr>\n",
              "    <tr>\n",
              "      <th>4</th>\n",
              "      <td>id1896645</td>\n",
              "      <td>2</td>\n",
              "      <td>2016-04-10 22:51:25</td>\n",
              "      <td>1</td>\n",
              "      <td>-73.977913</td>\n",
              "      <td>40.752609</td>\n",
              "      <td>-73.975647</td>\n",
              "      <td>40.733139</td>\n",
              "      <td>N</td>\n",
              "      <td>951</td>\n",
              "    </tr>\n",
              "  </tbody>\n",
              "</table>\n",
              "</div>"
            ],
            "text/plain": [
              "          id  vendor_id      pickup_datetime  passenger_count  \\\n",
              "0  id0458976          2  2016-06-29 18:21:02                1   \n",
              "1  id0434613          2  2016-04-25 13:03:26                1   \n",
              "2  id3809234          2  2016-05-07 12:36:09                1   \n",
              "3  id1203705          1  2016-05-14 18:44:17                1   \n",
              "4  id1896645          2  2016-04-10 22:51:25                1   \n",
              "\n",
              "   pickup_longitude  pickup_latitude  dropoff_longitude  dropoff_latitude  \\\n",
              "0        -73.862762        40.768822         -73.891701         40.746689   \n",
              "1        -73.958038        40.783237         -73.975510         40.760853   \n",
              "2        -73.969460        40.785519         -73.989243         40.771748   \n",
              "3        -73.981743        40.736549         -73.998352         40.726440   \n",
              "4        -73.977913        40.752609         -73.975647         40.733139   \n",
              "\n",
              "  store_and_fwd_flag  trip_duration  \n",
              "0                  N           1133  \n",
              "1                  N            887  \n",
              "2                  N            686  \n",
              "3                  N            818  \n",
              "4                  N            951  "
            ]
          },
          "execution_count": 20,
          "metadata": {},
          "output_type": "execute_result"
        }
      ],
      "source": [
        "df_train = df_train.drop(columns=uncommon_feature_train_not_val_test)\n",
        "df_train.head()"
      ]
    },
    {
      "cell_type": "code",
      "execution_count": 21,
      "metadata": {
        "colab": {
          "base_uri": "https://localhost:8080/",
          "height": 206
        },
        "id": "1NQxVAUFNBeK",
        "outputId": "ebd25d75-d6cf-493c-ce7e-8637556106a2"
      },
      "outputs": [
        {
          "data": {
            "text/html": [
              "<div>\n",
              "<style scoped>\n",
              "    .dataframe tbody tr th:only-of-type {\n",
              "        vertical-align: middle;\n",
              "    }\n",
              "\n",
              "    .dataframe tbody tr th {\n",
              "        vertical-align: top;\n",
              "    }\n",
              "\n",
              "    .dataframe thead th {\n",
              "        text-align: right;\n",
              "    }\n",
              "</style>\n",
              "<table border=\"1\" class=\"dataframe\">\n",
              "  <thead>\n",
              "    <tr style=\"text-align: right;\">\n",
              "      <th></th>\n",
              "      <th>id</th>\n",
              "      <th>vendor_id</th>\n",
              "      <th>pickup_datetime</th>\n",
              "      <th>passenger_count</th>\n",
              "      <th>pickup_longitude</th>\n",
              "      <th>pickup_latitude</th>\n",
              "      <th>dropoff_longitude</th>\n",
              "      <th>dropoff_latitude</th>\n",
              "      <th>store_and_fwd_flag</th>\n",
              "      <th>trip_duration</th>\n",
              "    </tr>\n",
              "  </thead>\n",
              "  <tbody>\n",
              "    <tr>\n",
              "      <th>0</th>\n",
              "      <td>id2793718</td>\n",
              "      <td>2</td>\n",
              "      <td>2016-06-08 07:36:19</td>\n",
              "      <td>1</td>\n",
              "      <td>-73.985611</td>\n",
              "      <td>40.735943</td>\n",
              "      <td>-73.980331</td>\n",
              "      <td>40.760468</td>\n",
              "      <td>N</td>\n",
              "      <td>1040</td>\n",
              "    </tr>\n",
              "    <tr>\n",
              "      <th>1</th>\n",
              "      <td>id3485529</td>\n",
              "      <td>2</td>\n",
              "      <td>2016-04-03 12:58:11</td>\n",
              "      <td>1</td>\n",
              "      <td>-73.978394</td>\n",
              "      <td>40.764351</td>\n",
              "      <td>-73.991623</td>\n",
              "      <td>40.749859</td>\n",
              "      <td>N</td>\n",
              "      <td>827</td>\n",
              "    </tr>\n",
              "    <tr>\n",
              "      <th>2</th>\n",
              "      <td>id1816614</td>\n",
              "      <td>2</td>\n",
              "      <td>2016-06-05 02:49:13</td>\n",
              "      <td>5</td>\n",
              "      <td>-73.989059</td>\n",
              "      <td>40.744389</td>\n",
              "      <td>-73.973381</td>\n",
              "      <td>40.748692</td>\n",
              "      <td>N</td>\n",
              "      <td>614</td>\n",
              "    </tr>\n",
              "    <tr>\n",
              "      <th>3</th>\n",
              "      <td>id1050851</td>\n",
              "      <td>2</td>\n",
              "      <td>2016-05-05 17:18:27</td>\n",
              "      <td>2</td>\n",
              "      <td>-73.990326</td>\n",
              "      <td>40.731136</td>\n",
              "      <td>-73.991264</td>\n",
              "      <td>40.748917</td>\n",
              "      <td>N</td>\n",
              "      <td>867</td>\n",
              "    </tr>\n",
              "    <tr>\n",
              "      <th>4</th>\n",
              "      <td>id0140657</td>\n",
              "      <td>1</td>\n",
              "      <td>2016-05-12 17:43:38</td>\n",
              "      <td>4</td>\n",
              "      <td>-73.789497</td>\n",
              "      <td>40.646675</td>\n",
              "      <td>-73.987137</td>\n",
              "      <td>40.759232</td>\n",
              "      <td>N</td>\n",
              "      <td>4967</td>\n",
              "    </tr>\n",
              "  </tbody>\n",
              "</table>\n",
              "</div>"
            ],
            "text/plain": [
              "          id  vendor_id      pickup_datetime  passenger_count  \\\n",
              "0  id2793718          2  2016-06-08 07:36:19                1   \n",
              "1  id3485529          2  2016-04-03 12:58:11                1   \n",
              "2  id1816614          2  2016-06-05 02:49:13                5   \n",
              "3  id1050851          2  2016-05-05 17:18:27                2   \n",
              "4  id0140657          1  2016-05-12 17:43:38                4   \n",
              "\n",
              "   pickup_longitude  pickup_latitude  dropoff_longitude  dropoff_latitude  \\\n",
              "0        -73.985611        40.735943         -73.980331         40.760468   \n",
              "1        -73.978394        40.764351         -73.991623         40.749859   \n",
              "2        -73.989059        40.744389         -73.973381         40.748692   \n",
              "3        -73.990326        40.731136         -73.991264         40.748917   \n",
              "4        -73.789497        40.646675         -73.987137         40.759232   \n",
              "\n",
              "  store_and_fwd_flag  trip_duration  \n",
              "0                  N           1040  \n",
              "1                  N            827  \n",
              "2                  N            614  \n",
              "3                  N            867  \n",
              "4                  N           4967  "
            ]
          },
          "execution_count": 21,
          "metadata": {},
          "output_type": "execute_result"
        }
      ],
      "source": [
        "# Remove the uncommon features from the validation data\n",
        "df_val = df_val.drop(columns=uncommon_feature_val_not_train_test)\n",
        "df_val.head()"
      ]
    },
    {
      "cell_type": "code",
      "execution_count": 22,
      "metadata": {
        "colab": {
          "base_uri": "https://localhost:8080/",
          "height": 206
        },
        "id": "dCATC3AXNGSr",
        "outputId": "ab69b31c-c683-4f2a-dda1-1efc100e0d57"
      },
      "outputs": [
        {
          "data": {
            "text/html": [
              "<div>\n",
              "<style scoped>\n",
              "    .dataframe tbody tr th:only-of-type {\n",
              "        vertical-align: middle;\n",
              "    }\n",
              "\n",
              "    .dataframe tbody tr th {\n",
              "        vertical-align: top;\n",
              "    }\n",
              "\n",
              "    .dataframe thead th {\n",
              "        text-align: right;\n",
              "    }\n",
              "</style>\n",
              "<table border=\"1\" class=\"dataframe\">\n",
              "  <thead>\n",
              "    <tr style=\"text-align: right;\">\n",
              "      <th></th>\n",
              "      <th>id</th>\n",
              "      <th>vendor_id</th>\n",
              "      <th>pickup_datetime</th>\n",
              "      <th>passenger_count</th>\n",
              "      <th>pickup_longitude</th>\n",
              "      <th>pickup_latitude</th>\n",
              "      <th>dropoff_longitude</th>\n",
              "      <th>dropoff_latitude</th>\n",
              "      <th>store_and_fwd_flag</th>\n",
              "    </tr>\n",
              "  </thead>\n",
              "  <tbody>\n",
              "    <tr>\n",
              "      <th>0</th>\n",
              "      <td>id3004672</td>\n",
              "      <td>1</td>\n",
              "      <td>2016-06-30 23:59:58</td>\n",
              "      <td>1</td>\n",
              "      <td>-73.988129</td>\n",
              "      <td>40.732029</td>\n",
              "      <td>-73.990173</td>\n",
              "      <td>40.756680</td>\n",
              "      <td>N</td>\n",
              "    </tr>\n",
              "    <tr>\n",
              "      <th>1</th>\n",
              "      <td>id3505355</td>\n",
              "      <td>1</td>\n",
              "      <td>2016-06-30 23:59:53</td>\n",
              "      <td>1</td>\n",
              "      <td>-73.964203</td>\n",
              "      <td>40.679993</td>\n",
              "      <td>-73.959808</td>\n",
              "      <td>40.655403</td>\n",
              "      <td>N</td>\n",
              "    </tr>\n",
              "    <tr>\n",
              "      <th>2</th>\n",
              "      <td>id1217141</td>\n",
              "      <td>1</td>\n",
              "      <td>2016-06-30 23:59:47</td>\n",
              "      <td>1</td>\n",
              "      <td>-73.997437</td>\n",
              "      <td>40.737583</td>\n",
              "      <td>-73.986160</td>\n",
              "      <td>40.729523</td>\n",
              "      <td>N</td>\n",
              "    </tr>\n",
              "    <tr>\n",
              "      <th>3</th>\n",
              "      <td>id2150126</td>\n",
              "      <td>2</td>\n",
              "      <td>2016-06-30 23:59:41</td>\n",
              "      <td>1</td>\n",
              "      <td>-73.956070</td>\n",
              "      <td>40.771900</td>\n",
              "      <td>-73.986427</td>\n",
              "      <td>40.730469</td>\n",
              "      <td>N</td>\n",
              "    </tr>\n",
              "    <tr>\n",
              "      <th>4</th>\n",
              "      <td>id1598245</td>\n",
              "      <td>1</td>\n",
              "      <td>2016-06-30 23:59:33</td>\n",
              "      <td>1</td>\n",
              "      <td>-73.970215</td>\n",
              "      <td>40.761475</td>\n",
              "      <td>-73.961510</td>\n",
              "      <td>40.755890</td>\n",
              "      <td>N</td>\n",
              "    </tr>\n",
              "  </tbody>\n",
              "</table>\n",
              "</div>"
            ],
            "text/plain": [
              "          id  vendor_id      pickup_datetime  passenger_count  \\\n",
              "0  id3004672          1  2016-06-30 23:59:58                1   \n",
              "1  id3505355          1  2016-06-30 23:59:53                1   \n",
              "2  id1217141          1  2016-06-30 23:59:47                1   \n",
              "3  id2150126          2  2016-06-30 23:59:41                1   \n",
              "4  id1598245          1  2016-06-30 23:59:33                1   \n",
              "\n",
              "   pickup_longitude  pickup_latitude  dropoff_longitude  dropoff_latitude  \\\n",
              "0        -73.988129        40.732029         -73.990173         40.756680   \n",
              "1        -73.964203        40.679993         -73.959808         40.655403   \n",
              "2        -73.997437        40.737583         -73.986160         40.729523   \n",
              "3        -73.956070        40.771900         -73.986427         40.730469   \n",
              "4        -73.970215        40.761475         -73.961510         40.755890   \n",
              "\n",
              "  store_and_fwd_flag  \n",
              "0                  N  \n",
              "1                  N  \n",
              "2                  N  \n",
              "3                  N  \n",
              "4                  N  "
            ]
          },
          "execution_count": 22,
          "metadata": {},
          "output_type": "execute_result"
        }
      ],
      "source": [
        "df_test = df_test.drop(columns=uncommon_feature_test_not_train_val)\n",
        "df_test.head()"
      ]
    },
    {
      "cell_type": "code",
      "execution_count": 23,
      "metadata": {
        "id": "hHh00z8VkjJb"
      },
      "outputs": [],
      "source": [
        "df = pd.concat([df_train, df_val, df_test], sort=False)\n"
      ]
    },
    {
      "cell_type": "code",
      "execution_count": 24,
      "metadata": {},
      "outputs": [],
      "source": [
        "def id_checker(df, dtype='float'):\n",
        "    \"\"\"\n",
        "    The identifier checker\n",
        "    \"\"\"\n",
        "    \n",
        "    # Get the dataframe of identifiers\n",
        "    df_id = df[[var for var in df.columns\n",
        "                # If the data type is not dtype\n",
        "                if (df[var].dtype != dtype\n",
        "                    # If the value is unique for each sample\n",
        "                    and df[var].nunique(dropna=True) == df[var].notnull().sum())]]\n",
        "    \n",
        "    return df_id"
      ]
    },
    {
      "cell_type": "code",
      "execution_count": 25,
      "metadata": {
        "colab": {
          "base_uri": "https://localhost:8080/",
          "height": 206
        },
        "id": "4FM4FKNwlPD7",
        "outputId": "3e41798a-6c34-4124-fcd6-e25aee0a1417"
      },
      "outputs": [
        {
          "data": {
            "text/html": [
              "<div>\n",
              "<style scoped>\n",
              "    .dataframe tbody tr th:only-of-type {\n",
              "        vertical-align: middle;\n",
              "    }\n",
              "\n",
              "    .dataframe tbody tr th {\n",
              "        vertical-align: top;\n",
              "    }\n",
              "\n",
              "    .dataframe thead th {\n",
              "        text-align: right;\n",
              "    }\n",
              "</style>\n",
              "<table border=\"1\" class=\"dataframe\">\n",
              "  <thead>\n",
              "    <tr style=\"text-align: right;\">\n",
              "      <th></th>\n",
              "      <th>id</th>\n",
              "    </tr>\n",
              "  </thead>\n",
              "  <tbody>\n",
              "    <tr>\n",
              "      <th>0</th>\n",
              "      <td>id0458976</td>\n",
              "    </tr>\n",
              "    <tr>\n",
              "      <th>1</th>\n",
              "      <td>id0434613</td>\n",
              "    </tr>\n",
              "    <tr>\n",
              "      <th>2</th>\n",
              "      <td>id3809234</td>\n",
              "    </tr>\n",
              "    <tr>\n",
              "      <th>3</th>\n",
              "      <td>id1203705</td>\n",
              "    </tr>\n",
              "    <tr>\n",
              "      <th>4</th>\n",
              "      <td>id1896645</td>\n",
              "    </tr>\n",
              "  </tbody>\n",
              "</table>\n",
              "</div>"
            ],
            "text/plain": [
              "          id\n",
              "0  id0458976\n",
              "1  id0434613\n",
              "2  id3809234\n",
              "3  id1203705\n",
              "4  id1896645"
            ]
          },
          "execution_count": 25,
          "metadata": {},
          "output_type": "execute_result"
        }
      ],
      "source": [
        "df_id = id_checker(df)\n",
        "df_id.head()"
      ]
    },
    {
      "cell_type": "code",
      "execution_count": 26,
      "metadata": {
        "id": "0DfbLHbllot8"
      },
      "outputs": [],
      "source": [
        "df_train.drop(columns=np.intersect1d(df_id.columns, df_train.columns), inplace=True)\n",
        "df_val.drop(columns=np.intersect1d(df_id.columns, df_val.columns), inplace=True)\n",
        "df_test.drop(columns=np.intersect1d(df_id.columns, df_test.columns), inplace=True)"
      ]
    },
    {
      "cell_type": "code",
      "execution_count": 27,
      "metadata": {
        "colab": {
          "base_uri": "https://localhost:8080/",
          "height": 206
        },
        "id": "C07wp0P4l2ke",
        "outputId": "2383baae-02cd-4b89-b930-74f9128a1164"
      },
      "outputs": [
        {
          "data": {
            "text/html": [
              "<div>\n",
              "<style scoped>\n",
              "    .dataframe tbody tr th:only-of-type {\n",
              "        vertical-align: middle;\n",
              "    }\n",
              "\n",
              "    .dataframe tbody tr th {\n",
              "        vertical-align: top;\n",
              "    }\n",
              "\n",
              "    .dataframe thead th {\n",
              "        text-align: right;\n",
              "    }\n",
              "</style>\n",
              "<table border=\"1\" class=\"dataframe\">\n",
              "  <thead>\n",
              "    <tr style=\"text-align: right;\">\n",
              "      <th></th>\n",
              "      <th>vendor_id</th>\n",
              "      <th>pickup_datetime</th>\n",
              "      <th>passenger_count</th>\n",
              "      <th>pickup_longitude</th>\n",
              "      <th>pickup_latitude</th>\n",
              "      <th>dropoff_longitude</th>\n",
              "      <th>dropoff_latitude</th>\n",
              "      <th>store_and_fwd_flag</th>\n",
              "      <th>trip_duration</th>\n",
              "    </tr>\n",
              "  </thead>\n",
              "  <tbody>\n",
              "    <tr>\n",
              "      <th>0</th>\n",
              "      <td>2</td>\n",
              "      <td>2016-06-29 18:21:02</td>\n",
              "      <td>1</td>\n",
              "      <td>-73.862762</td>\n",
              "      <td>40.768822</td>\n",
              "      <td>-73.891701</td>\n",
              "      <td>40.746689</td>\n",
              "      <td>N</td>\n",
              "      <td>1133</td>\n",
              "    </tr>\n",
              "    <tr>\n",
              "      <th>1</th>\n",
              "      <td>2</td>\n",
              "      <td>2016-04-25 13:03:26</td>\n",
              "      <td>1</td>\n",
              "      <td>-73.958038</td>\n",
              "      <td>40.783237</td>\n",
              "      <td>-73.975510</td>\n",
              "      <td>40.760853</td>\n",
              "      <td>N</td>\n",
              "      <td>887</td>\n",
              "    </tr>\n",
              "    <tr>\n",
              "      <th>2</th>\n",
              "      <td>2</td>\n",
              "      <td>2016-05-07 12:36:09</td>\n",
              "      <td>1</td>\n",
              "      <td>-73.969460</td>\n",
              "      <td>40.785519</td>\n",
              "      <td>-73.989243</td>\n",
              "      <td>40.771748</td>\n",
              "      <td>N</td>\n",
              "      <td>686</td>\n",
              "    </tr>\n",
              "    <tr>\n",
              "      <th>3</th>\n",
              "      <td>1</td>\n",
              "      <td>2016-05-14 18:44:17</td>\n",
              "      <td>1</td>\n",
              "      <td>-73.981743</td>\n",
              "      <td>40.736549</td>\n",
              "      <td>-73.998352</td>\n",
              "      <td>40.726440</td>\n",
              "      <td>N</td>\n",
              "      <td>818</td>\n",
              "    </tr>\n",
              "    <tr>\n",
              "      <th>4</th>\n",
              "      <td>2</td>\n",
              "      <td>2016-04-10 22:51:25</td>\n",
              "      <td>1</td>\n",
              "      <td>-73.977913</td>\n",
              "      <td>40.752609</td>\n",
              "      <td>-73.975647</td>\n",
              "      <td>40.733139</td>\n",
              "      <td>N</td>\n",
              "      <td>951</td>\n",
              "    </tr>\n",
              "  </tbody>\n",
              "</table>\n",
              "</div>"
            ],
            "text/plain": [
              "   vendor_id      pickup_datetime  passenger_count  pickup_longitude  \\\n",
              "0          2  2016-06-29 18:21:02                1        -73.862762   \n",
              "1          2  2016-04-25 13:03:26                1        -73.958038   \n",
              "2          2  2016-05-07 12:36:09                1        -73.969460   \n",
              "3          1  2016-05-14 18:44:17                1        -73.981743   \n",
              "4          2  2016-04-10 22:51:25                1        -73.977913   \n",
              "\n",
              "   pickup_latitude  dropoff_longitude  dropoff_latitude store_and_fwd_flag  \\\n",
              "0        40.768822         -73.891701         40.746689                  N   \n",
              "1        40.783237         -73.975510         40.760853                  N   \n",
              "2        40.785519         -73.989243         40.771748                  N   \n",
              "3        40.736549         -73.998352         40.726440                  N   \n",
              "4        40.752609         -73.975647         40.733139                  N   \n",
              "\n",
              "   trip_duration  \n",
              "0           1133  \n",
              "1            887  \n",
              "2            686  \n",
              "3            818  \n",
              "4            951  "
            ]
          },
          "execution_count": 27,
          "metadata": {},
          "output_type": "execute_result"
        }
      ],
      "source": [
        "df_train.head()"
      ]
    },
    {
      "cell_type": "code",
      "execution_count": 28,
      "metadata": {
        "colab": {
          "base_uri": "https://localhost:8080/",
          "height": 206
        },
        "id": "vpz_hDSamGam",
        "outputId": "324c3188-d924-4d17-d8d6-c9d121e712d2"
      },
      "outputs": [
        {
          "data": {
            "text/html": [
              "<div>\n",
              "<style scoped>\n",
              "    .dataframe tbody tr th:only-of-type {\n",
              "        vertical-align: middle;\n",
              "    }\n",
              "\n",
              "    .dataframe tbody tr th {\n",
              "        vertical-align: top;\n",
              "    }\n",
              "\n",
              "    .dataframe thead th {\n",
              "        text-align: right;\n",
              "    }\n",
              "</style>\n",
              "<table border=\"1\" class=\"dataframe\">\n",
              "  <thead>\n",
              "    <tr style=\"text-align: right;\">\n",
              "      <th></th>\n",
              "      <th>vendor_id</th>\n",
              "      <th>pickup_datetime</th>\n",
              "      <th>passenger_count</th>\n",
              "      <th>pickup_longitude</th>\n",
              "      <th>pickup_latitude</th>\n",
              "      <th>dropoff_longitude</th>\n",
              "      <th>dropoff_latitude</th>\n",
              "      <th>store_and_fwd_flag</th>\n",
              "      <th>trip_duration</th>\n",
              "    </tr>\n",
              "  </thead>\n",
              "  <tbody>\n",
              "    <tr>\n",
              "      <th>0</th>\n",
              "      <td>2</td>\n",
              "      <td>2016-06-08 07:36:19</td>\n",
              "      <td>1</td>\n",
              "      <td>-73.985611</td>\n",
              "      <td>40.735943</td>\n",
              "      <td>-73.980331</td>\n",
              "      <td>40.760468</td>\n",
              "      <td>N</td>\n",
              "      <td>1040</td>\n",
              "    </tr>\n",
              "    <tr>\n",
              "      <th>1</th>\n",
              "      <td>2</td>\n",
              "      <td>2016-04-03 12:58:11</td>\n",
              "      <td>1</td>\n",
              "      <td>-73.978394</td>\n",
              "      <td>40.764351</td>\n",
              "      <td>-73.991623</td>\n",
              "      <td>40.749859</td>\n",
              "      <td>N</td>\n",
              "      <td>827</td>\n",
              "    </tr>\n",
              "    <tr>\n",
              "      <th>2</th>\n",
              "      <td>2</td>\n",
              "      <td>2016-06-05 02:49:13</td>\n",
              "      <td>5</td>\n",
              "      <td>-73.989059</td>\n",
              "      <td>40.744389</td>\n",
              "      <td>-73.973381</td>\n",
              "      <td>40.748692</td>\n",
              "      <td>N</td>\n",
              "      <td>614</td>\n",
              "    </tr>\n",
              "    <tr>\n",
              "      <th>3</th>\n",
              "      <td>2</td>\n",
              "      <td>2016-05-05 17:18:27</td>\n",
              "      <td>2</td>\n",
              "      <td>-73.990326</td>\n",
              "      <td>40.731136</td>\n",
              "      <td>-73.991264</td>\n",
              "      <td>40.748917</td>\n",
              "      <td>N</td>\n",
              "      <td>867</td>\n",
              "    </tr>\n",
              "    <tr>\n",
              "      <th>4</th>\n",
              "      <td>1</td>\n",
              "      <td>2016-05-12 17:43:38</td>\n",
              "      <td>4</td>\n",
              "      <td>-73.789497</td>\n",
              "      <td>40.646675</td>\n",
              "      <td>-73.987137</td>\n",
              "      <td>40.759232</td>\n",
              "      <td>N</td>\n",
              "      <td>4967</td>\n",
              "    </tr>\n",
              "  </tbody>\n",
              "</table>\n",
              "</div>"
            ],
            "text/plain": [
              "   vendor_id      pickup_datetime  passenger_count  pickup_longitude  \\\n",
              "0          2  2016-06-08 07:36:19                1        -73.985611   \n",
              "1          2  2016-04-03 12:58:11                1        -73.978394   \n",
              "2          2  2016-06-05 02:49:13                5        -73.989059   \n",
              "3          2  2016-05-05 17:18:27                2        -73.990326   \n",
              "4          1  2016-05-12 17:43:38                4        -73.789497   \n",
              "\n",
              "   pickup_latitude  dropoff_longitude  dropoff_latitude store_and_fwd_flag  \\\n",
              "0        40.735943         -73.980331         40.760468                  N   \n",
              "1        40.764351         -73.991623         40.749859                  N   \n",
              "2        40.744389         -73.973381         40.748692                  N   \n",
              "3        40.731136         -73.991264         40.748917                  N   \n",
              "4        40.646675         -73.987137         40.759232                  N   \n",
              "\n",
              "   trip_duration  \n",
              "0           1040  \n",
              "1            827  \n",
              "2            614  \n",
              "3            867  \n",
              "4           4967  "
            ]
          },
          "execution_count": 28,
          "metadata": {},
          "output_type": "execute_result"
        }
      ],
      "source": [
        "df_val.head()"
      ]
    },
    {
      "cell_type": "code",
      "execution_count": 29,
      "metadata": {
        "colab": {
          "base_uri": "https://localhost:8080/",
          "height": 206
        },
        "id": "s2il7WLBmMbZ",
        "outputId": "0f164aca-d9b2-428d-8889-3b497c881584"
      },
      "outputs": [
        {
          "data": {
            "text/html": [
              "<div>\n",
              "<style scoped>\n",
              "    .dataframe tbody tr th:only-of-type {\n",
              "        vertical-align: middle;\n",
              "    }\n",
              "\n",
              "    .dataframe tbody tr th {\n",
              "        vertical-align: top;\n",
              "    }\n",
              "\n",
              "    .dataframe thead th {\n",
              "        text-align: right;\n",
              "    }\n",
              "</style>\n",
              "<table border=\"1\" class=\"dataframe\">\n",
              "  <thead>\n",
              "    <tr style=\"text-align: right;\">\n",
              "      <th></th>\n",
              "      <th>vendor_id</th>\n",
              "      <th>pickup_datetime</th>\n",
              "      <th>passenger_count</th>\n",
              "      <th>pickup_longitude</th>\n",
              "      <th>pickup_latitude</th>\n",
              "      <th>dropoff_longitude</th>\n",
              "      <th>dropoff_latitude</th>\n",
              "      <th>store_and_fwd_flag</th>\n",
              "    </tr>\n",
              "  </thead>\n",
              "  <tbody>\n",
              "    <tr>\n",
              "      <th>0</th>\n",
              "      <td>1</td>\n",
              "      <td>2016-06-30 23:59:58</td>\n",
              "      <td>1</td>\n",
              "      <td>-73.988129</td>\n",
              "      <td>40.732029</td>\n",
              "      <td>-73.990173</td>\n",
              "      <td>40.756680</td>\n",
              "      <td>N</td>\n",
              "    </tr>\n",
              "    <tr>\n",
              "      <th>1</th>\n",
              "      <td>1</td>\n",
              "      <td>2016-06-30 23:59:53</td>\n",
              "      <td>1</td>\n",
              "      <td>-73.964203</td>\n",
              "      <td>40.679993</td>\n",
              "      <td>-73.959808</td>\n",
              "      <td>40.655403</td>\n",
              "      <td>N</td>\n",
              "    </tr>\n",
              "    <tr>\n",
              "      <th>2</th>\n",
              "      <td>1</td>\n",
              "      <td>2016-06-30 23:59:47</td>\n",
              "      <td>1</td>\n",
              "      <td>-73.997437</td>\n",
              "      <td>40.737583</td>\n",
              "      <td>-73.986160</td>\n",
              "      <td>40.729523</td>\n",
              "      <td>N</td>\n",
              "    </tr>\n",
              "    <tr>\n",
              "      <th>3</th>\n",
              "      <td>2</td>\n",
              "      <td>2016-06-30 23:59:41</td>\n",
              "      <td>1</td>\n",
              "      <td>-73.956070</td>\n",
              "      <td>40.771900</td>\n",
              "      <td>-73.986427</td>\n",
              "      <td>40.730469</td>\n",
              "      <td>N</td>\n",
              "    </tr>\n",
              "    <tr>\n",
              "      <th>4</th>\n",
              "      <td>1</td>\n",
              "      <td>2016-06-30 23:59:33</td>\n",
              "      <td>1</td>\n",
              "      <td>-73.970215</td>\n",
              "      <td>40.761475</td>\n",
              "      <td>-73.961510</td>\n",
              "      <td>40.755890</td>\n",
              "      <td>N</td>\n",
              "    </tr>\n",
              "  </tbody>\n",
              "</table>\n",
              "</div>"
            ],
            "text/plain": [
              "   vendor_id      pickup_datetime  passenger_count  pickup_longitude  \\\n",
              "0          1  2016-06-30 23:59:58                1        -73.988129   \n",
              "1          1  2016-06-30 23:59:53                1        -73.964203   \n",
              "2          1  2016-06-30 23:59:47                1        -73.997437   \n",
              "3          2  2016-06-30 23:59:41                1        -73.956070   \n",
              "4          1  2016-06-30 23:59:33                1        -73.970215   \n",
              "\n",
              "   pickup_latitude  dropoff_longitude  dropoff_latitude store_and_fwd_flag  \n",
              "0        40.732029         -73.990173         40.756680                  N  \n",
              "1        40.679993         -73.959808         40.655403                  N  \n",
              "2        40.737583         -73.986160         40.729523                  N  \n",
              "3        40.771900         -73.986427         40.730469                  N  \n",
              "4        40.761475         -73.961510         40.755890                  N  "
            ]
          },
          "execution_count": 29,
          "metadata": {},
          "output_type": "execute_result"
        }
      ],
      "source": [
        "df_test.head()"
      ]
    },
    {
      "cell_type": "code",
      "execution_count": 30,
      "metadata": {},
      "outputs": [],
      "source": [
        "def haversine_distance(lat1, lon1, lat2, lon2):\n",
        "    R = 6371  # Radius of the earth in km\n",
        "    dLat = math.radians(lat2 - lat1)\n",
        "    dLon = math.radians(lon2 - lon1)\n",
        "    a = (math.sin(dLat/2) * math.sin(dLat/2) +\n",
        "         math.cos(math.radians(lat1)) * math.cos(math.radians(lat2)) *\n",
        "         math.sin(dLon/2) * math.sin(dLon/2))\n",
        "    c = 2 * math.atan2(math.sqrt(a), math.sqrt(1-a))\n",
        "    d = R * c\n",
        "    return d\n",
        "\n",
        "def add_haversine_column(df):\n",
        "  df['haversine_distance'] = df.apply(lambda row: haversine_distance(row['pickup_latitude'], row['pickup_longitude'], row['dropoff_latitude'], row['dropoff_longitude']), axis=1)\n",
        "  return df\n",
        "\n",
        "df_train = add_haversine_column(df_train)\n",
        "df_val = add_haversine_column(df_val)\n",
        "df_test = add_haversine_column(df_test)"
      ]
    },
    {
      "cell_type": "code",
      "execution_count": 31,
      "metadata": {},
      "outputs": [],
      "source": [
        "def datetime_transformer(df, datetime_vars):\n",
        "    \"\"\"\n",
        "    The datetime transformer\n",
        "    \"\"\"\n",
        "    \n",
        "    # The dictionary with key as datetime type and value as datetime type operator\n",
        "    dict_ = {'year'   : lambda x : x.dt.year,\n",
        "             'month'  : lambda x : x.dt.month,\n",
        "             'day'    : lambda x : x.dt.day,\n",
        "             'hour'   : lambda x : x.dt.hour,\n",
        "             'minute' : lambda x : x.dt.minute,\n",
        "             'second' : lambda x : x.dt.second}\n",
        "    \n",
        "    df_datetime = df.copy(deep=True)\n",
        "    \n",
        "    for var in datetime_vars:\n",
        "        df_datetime[var] = pd.to_datetime(df_datetime[var])\n",
        "        \n",
        "        for datetime_type, datetime_type_operator in dict_.items():\n",
        "            df_datetime[var + '_' + datetime_type] = datetime_type_operator(df_datetime[var])\n",
        "            \n",
        "    df_datetime = df_datetime.drop(columns=datetime_vars)\n",
        "                \n",
        "    return df_datetime"
      ]
    },
    {
      "cell_type": "code",
      "execution_count": 32,
      "metadata": {
        "id": "-izMmktKmk3r"
      },
      "outputs": [],
      "source": [
        "datetime_vars = ['pickup_datetime']\n"
      ]
    },
    {
      "cell_type": "code",
      "execution_count": 33,
      "metadata": {
        "id": "FrQF2cnbnU8o"
      },
      "outputs": [],
      "source": [
        "df_train = datetime_transformer(df_train, datetime_vars)"
      ]
    },
    {
      "cell_type": "code",
      "execution_count": 34,
      "metadata": {
        "colab": {
          "base_uri": "https://localhost:8080/",
          "height": 226
        },
        "id": "AIX_HhRNnaUI",
        "outputId": "bbecf17d-7937-459e-8b62-96a9f107d43b"
      },
      "outputs": [
        {
          "data": {
            "text/html": [
              "<div>\n",
              "<style scoped>\n",
              "    .dataframe tbody tr th:only-of-type {\n",
              "        vertical-align: middle;\n",
              "    }\n",
              "\n",
              "    .dataframe tbody tr th {\n",
              "        vertical-align: top;\n",
              "    }\n",
              "\n",
              "    .dataframe thead th {\n",
              "        text-align: right;\n",
              "    }\n",
              "</style>\n",
              "<table border=\"1\" class=\"dataframe\">\n",
              "  <thead>\n",
              "    <tr style=\"text-align: right;\">\n",
              "      <th></th>\n",
              "      <th>vendor_id</th>\n",
              "      <th>passenger_count</th>\n",
              "      <th>pickup_longitude</th>\n",
              "      <th>pickup_latitude</th>\n",
              "      <th>dropoff_longitude</th>\n",
              "      <th>dropoff_latitude</th>\n",
              "      <th>store_and_fwd_flag</th>\n",
              "      <th>trip_duration</th>\n",
              "      <th>haversine_distance</th>\n",
              "      <th>pickup_datetime_year</th>\n",
              "      <th>pickup_datetime_month</th>\n",
              "      <th>pickup_datetime_day</th>\n",
              "      <th>pickup_datetime_hour</th>\n",
              "      <th>pickup_datetime_minute</th>\n",
              "      <th>pickup_datetime_second</th>\n",
              "    </tr>\n",
              "  </thead>\n",
              "  <tbody>\n",
              "    <tr>\n",
              "      <th>0</th>\n",
              "      <td>2</td>\n",
              "      <td>1</td>\n",
              "      <td>-73.862762</td>\n",
              "      <td>40.768822</td>\n",
              "      <td>-73.891701</td>\n",
              "      <td>40.746689</td>\n",
              "      <td>N</td>\n",
              "      <td>1133</td>\n",
              "      <td>3.463778</td>\n",
              "      <td>2016</td>\n",
              "      <td>6</td>\n",
              "      <td>29</td>\n",
              "      <td>18</td>\n",
              "      <td>21</td>\n",
              "      <td>2</td>\n",
              "    </tr>\n",
              "    <tr>\n",
              "      <th>1</th>\n",
              "      <td>2</td>\n",
              "      <td>1</td>\n",
              "      <td>-73.958038</td>\n",
              "      <td>40.783237</td>\n",
              "      <td>-73.975510</td>\n",
              "      <td>40.760853</td>\n",
              "      <td>N</td>\n",
              "      <td>887</td>\n",
              "      <td>2.891365</td>\n",
              "      <td>2016</td>\n",
              "      <td>4</td>\n",
              "      <td>25</td>\n",
              "      <td>13</td>\n",
              "      <td>3</td>\n",
              "      <td>26</td>\n",
              "    </tr>\n",
              "    <tr>\n",
              "      <th>2</th>\n",
              "      <td>2</td>\n",
              "      <td>1</td>\n",
              "      <td>-73.969460</td>\n",
              "      <td>40.785519</td>\n",
              "      <td>-73.989243</td>\n",
              "      <td>40.771748</td>\n",
              "      <td>N</td>\n",
              "      <td>686</td>\n",
              "      <td>2.262636</td>\n",
              "      <td>2016</td>\n",
              "      <td>5</td>\n",
              "      <td>7</td>\n",
              "      <td>12</td>\n",
              "      <td>36</td>\n",
              "      <td>9</td>\n",
              "    </tr>\n",
              "    <tr>\n",
              "      <th>3</th>\n",
              "      <td>1</td>\n",
              "      <td>1</td>\n",
              "      <td>-73.981743</td>\n",
              "      <td>40.736549</td>\n",
              "      <td>-73.998352</td>\n",
              "      <td>40.726440</td>\n",
              "      <td>N</td>\n",
              "      <td>818</td>\n",
              "      <td>1.795030</td>\n",
              "      <td>2016</td>\n",
              "      <td>5</td>\n",
              "      <td>14</td>\n",
              "      <td>18</td>\n",
              "      <td>44</td>\n",
              "      <td>17</td>\n",
              "    </tr>\n",
              "    <tr>\n",
              "      <th>4</th>\n",
              "      <td>2</td>\n",
              "      <td>1</td>\n",
              "      <td>-73.977913</td>\n",
              "      <td>40.752609</td>\n",
              "      <td>-73.975647</td>\n",
              "      <td>40.733139</td>\n",
              "      <td>N</td>\n",
              "      <td>951</td>\n",
              "      <td>2.173389</td>\n",
              "      <td>2016</td>\n",
              "      <td>4</td>\n",
              "      <td>10</td>\n",
              "      <td>22</td>\n",
              "      <td>51</td>\n",
              "      <td>25</td>\n",
              "    </tr>\n",
              "  </tbody>\n",
              "</table>\n",
              "</div>"
            ],
            "text/plain": [
              "   vendor_id  passenger_count  pickup_longitude  pickup_latitude  \\\n",
              "0          2                1        -73.862762        40.768822   \n",
              "1          2                1        -73.958038        40.783237   \n",
              "2          2                1        -73.969460        40.785519   \n",
              "3          1                1        -73.981743        40.736549   \n",
              "4          2                1        -73.977913        40.752609   \n",
              "\n",
              "   dropoff_longitude  dropoff_latitude store_and_fwd_flag  trip_duration  \\\n",
              "0         -73.891701         40.746689                  N           1133   \n",
              "1         -73.975510         40.760853                  N            887   \n",
              "2         -73.989243         40.771748                  N            686   \n",
              "3         -73.998352         40.726440                  N            818   \n",
              "4         -73.975647         40.733139                  N            951   \n",
              "\n",
              "   haversine_distance  pickup_datetime_year  pickup_datetime_month  \\\n",
              "0            3.463778                  2016                      6   \n",
              "1            2.891365                  2016                      4   \n",
              "2            2.262636                  2016                      5   \n",
              "3            1.795030                  2016                      5   \n",
              "4            2.173389                  2016                      4   \n",
              "\n",
              "   pickup_datetime_day  pickup_datetime_hour  pickup_datetime_minute  \\\n",
              "0                   29                    18                      21   \n",
              "1                   25                    13                       3   \n",
              "2                    7                    12                      36   \n",
              "3                   14                    18                      44   \n",
              "4                   10                    22                      51   \n",
              "\n",
              "   pickup_datetime_second  \n",
              "0                       2  \n",
              "1                      26  \n",
              "2                       9  \n",
              "3                      17  \n",
              "4                      25  "
            ]
          },
          "execution_count": 34,
          "metadata": {},
          "output_type": "execute_result"
        }
      ],
      "source": [
        "df_train.head()"
      ]
    },
    {
      "cell_type": "code",
      "execution_count": 35,
      "metadata": {
        "colab": {
          "base_uri": "https://localhost:8080/",
          "height": 226
        },
        "id": "cWEOZZ9SnXij",
        "outputId": "68b7a8bd-4221-4361-f946-107d08220362"
      },
      "outputs": [
        {
          "data": {
            "text/html": [
              "<div>\n",
              "<style scoped>\n",
              "    .dataframe tbody tr th:only-of-type {\n",
              "        vertical-align: middle;\n",
              "    }\n",
              "\n",
              "    .dataframe tbody tr th {\n",
              "        vertical-align: top;\n",
              "    }\n",
              "\n",
              "    .dataframe thead th {\n",
              "        text-align: right;\n",
              "    }\n",
              "</style>\n",
              "<table border=\"1\" class=\"dataframe\">\n",
              "  <thead>\n",
              "    <tr style=\"text-align: right;\">\n",
              "      <th></th>\n",
              "      <th>vendor_id</th>\n",
              "      <th>passenger_count</th>\n",
              "      <th>pickup_longitude</th>\n",
              "      <th>pickup_latitude</th>\n",
              "      <th>dropoff_longitude</th>\n",
              "      <th>dropoff_latitude</th>\n",
              "      <th>store_and_fwd_flag</th>\n",
              "      <th>trip_duration</th>\n",
              "      <th>haversine_distance</th>\n",
              "      <th>pickup_datetime_year</th>\n",
              "      <th>pickup_datetime_month</th>\n",
              "      <th>pickup_datetime_day</th>\n",
              "      <th>pickup_datetime_hour</th>\n",
              "      <th>pickup_datetime_minute</th>\n",
              "      <th>pickup_datetime_second</th>\n",
              "    </tr>\n",
              "  </thead>\n",
              "  <tbody>\n",
              "    <tr>\n",
              "      <th>0</th>\n",
              "      <td>2</td>\n",
              "      <td>1</td>\n",
              "      <td>-73.985611</td>\n",
              "      <td>40.735943</td>\n",
              "      <td>-73.980331</td>\n",
              "      <td>40.760468</td>\n",
              "      <td>N</td>\n",
              "      <td>1040</td>\n",
              "      <td>2.763050</td>\n",
              "      <td>2016</td>\n",
              "      <td>6</td>\n",
              "      <td>8</td>\n",
              "      <td>7</td>\n",
              "      <td>36</td>\n",
              "      <td>19</td>\n",
              "    </tr>\n",
              "    <tr>\n",
              "      <th>1</th>\n",
              "      <td>2</td>\n",
              "      <td>1</td>\n",
              "      <td>-73.978394</td>\n",
              "      <td>40.764351</td>\n",
              "      <td>-73.991623</td>\n",
              "      <td>40.749859</td>\n",
              "      <td>N</td>\n",
              "      <td>827</td>\n",
              "      <td>1.959178</td>\n",
              "      <td>2016</td>\n",
              "      <td>4</td>\n",
              "      <td>3</td>\n",
              "      <td>12</td>\n",
              "      <td>58</td>\n",
              "      <td>11</td>\n",
              "    </tr>\n",
              "    <tr>\n",
              "      <th>2</th>\n",
              "      <td>2</td>\n",
              "      <td>5</td>\n",
              "      <td>-73.989059</td>\n",
              "      <td>40.744389</td>\n",
              "      <td>-73.973381</td>\n",
              "      <td>40.748692</td>\n",
              "      <td>N</td>\n",
              "      <td>614</td>\n",
              "      <td>1.404772</td>\n",
              "      <td>2016</td>\n",
              "      <td>6</td>\n",
              "      <td>5</td>\n",
              "      <td>2</td>\n",
              "      <td>49</td>\n",
              "      <td>13</td>\n",
              "    </tr>\n",
              "    <tr>\n",
              "      <th>3</th>\n",
              "      <td>2</td>\n",
              "      <td>2</td>\n",
              "      <td>-73.990326</td>\n",
              "      <td>40.731136</td>\n",
              "      <td>-73.991264</td>\n",
              "      <td>40.748917</td>\n",
              "      <td>N</td>\n",
              "      <td>867</td>\n",
              "      <td>1.978660</td>\n",
              "      <td>2016</td>\n",
              "      <td>5</td>\n",
              "      <td>5</td>\n",
              "      <td>17</td>\n",
              "      <td>18</td>\n",
              "      <td>27</td>\n",
              "    </tr>\n",
              "    <tr>\n",
              "      <th>4</th>\n",
              "      <td>1</td>\n",
              "      <td>4</td>\n",
              "      <td>-73.789497</td>\n",
              "      <td>40.646675</td>\n",
              "      <td>-73.987137</td>\n",
              "      <td>40.759232</td>\n",
              "      <td>N</td>\n",
              "      <td>4967</td>\n",
              "      <td>20.837745</td>\n",
              "      <td>2016</td>\n",
              "      <td>5</td>\n",
              "      <td>12</td>\n",
              "      <td>17</td>\n",
              "      <td>43</td>\n",
              "      <td>38</td>\n",
              "    </tr>\n",
              "  </tbody>\n",
              "</table>\n",
              "</div>"
            ],
            "text/plain": [
              "   vendor_id  passenger_count  pickup_longitude  pickup_latitude  \\\n",
              "0          2                1        -73.985611        40.735943   \n",
              "1          2                1        -73.978394        40.764351   \n",
              "2          2                5        -73.989059        40.744389   \n",
              "3          2                2        -73.990326        40.731136   \n",
              "4          1                4        -73.789497        40.646675   \n",
              "\n",
              "   dropoff_longitude  dropoff_latitude store_and_fwd_flag  trip_duration  \\\n",
              "0         -73.980331         40.760468                  N           1040   \n",
              "1         -73.991623         40.749859                  N            827   \n",
              "2         -73.973381         40.748692                  N            614   \n",
              "3         -73.991264         40.748917                  N            867   \n",
              "4         -73.987137         40.759232                  N           4967   \n",
              "\n",
              "   haversine_distance  pickup_datetime_year  pickup_datetime_month  \\\n",
              "0            2.763050                  2016                      6   \n",
              "1            1.959178                  2016                      4   \n",
              "2            1.404772                  2016                      6   \n",
              "3            1.978660                  2016                      5   \n",
              "4           20.837745                  2016                      5   \n",
              "\n",
              "   pickup_datetime_day  pickup_datetime_hour  pickup_datetime_minute  \\\n",
              "0                    8                     7                      36   \n",
              "1                    3                    12                      58   \n",
              "2                    5                     2                      49   \n",
              "3                    5                    17                      18   \n",
              "4                   12                    17                      43   \n",
              "\n",
              "   pickup_datetime_second  \n",
              "0                      19  \n",
              "1                      11  \n",
              "2                      13  \n",
              "3                      27  \n",
              "4                      38  "
            ]
          },
          "execution_count": 35,
          "metadata": {},
          "output_type": "execute_result"
        }
      ],
      "source": [
        "df_val = datetime_transformer(df_val, datetime_vars)\n",
        "df_val.head()\n"
      ]
    },
    {
      "cell_type": "code",
      "execution_count": 36,
      "metadata": {
        "colab": {
          "base_uri": "https://localhost:8080/",
          "height": 226
        },
        "id": "trLE7S8WnjjZ",
        "outputId": "f3735709-7995-4a04-cb3c-22786863fc8c"
      },
      "outputs": [
        {
          "data": {
            "text/html": [
              "<div>\n",
              "<style scoped>\n",
              "    .dataframe tbody tr th:only-of-type {\n",
              "        vertical-align: middle;\n",
              "    }\n",
              "\n",
              "    .dataframe tbody tr th {\n",
              "        vertical-align: top;\n",
              "    }\n",
              "\n",
              "    .dataframe thead th {\n",
              "        text-align: right;\n",
              "    }\n",
              "</style>\n",
              "<table border=\"1\" class=\"dataframe\">\n",
              "  <thead>\n",
              "    <tr style=\"text-align: right;\">\n",
              "      <th></th>\n",
              "      <th>vendor_id</th>\n",
              "      <th>passenger_count</th>\n",
              "      <th>pickup_longitude</th>\n",
              "      <th>pickup_latitude</th>\n",
              "      <th>dropoff_longitude</th>\n",
              "      <th>dropoff_latitude</th>\n",
              "      <th>store_and_fwd_flag</th>\n",
              "      <th>haversine_distance</th>\n",
              "      <th>pickup_datetime_year</th>\n",
              "      <th>pickup_datetime_month</th>\n",
              "      <th>pickup_datetime_day</th>\n",
              "      <th>pickup_datetime_hour</th>\n",
              "      <th>pickup_datetime_minute</th>\n",
              "      <th>pickup_datetime_second</th>\n",
              "    </tr>\n",
              "  </thead>\n",
              "  <tbody>\n",
              "    <tr>\n",
              "      <th>0</th>\n",
              "      <td>1</td>\n",
              "      <td>1</td>\n",
              "      <td>-73.988129</td>\n",
              "      <td>40.732029</td>\n",
              "      <td>-73.990173</td>\n",
              "      <td>40.756680</td>\n",
              "      <td>N</td>\n",
              "      <td>2.746426</td>\n",
              "      <td>2016</td>\n",
              "      <td>6</td>\n",
              "      <td>30</td>\n",
              "      <td>23</td>\n",
              "      <td>59</td>\n",
              "      <td>58</td>\n",
              "    </tr>\n",
              "    <tr>\n",
              "      <th>1</th>\n",
              "      <td>1</td>\n",
              "      <td>1</td>\n",
              "      <td>-73.964203</td>\n",
              "      <td>40.679993</td>\n",
              "      <td>-73.959808</td>\n",
              "      <td>40.655403</td>\n",
              "      <td>N</td>\n",
              "      <td>2.759239</td>\n",
              "      <td>2016</td>\n",
              "      <td>6</td>\n",
              "      <td>30</td>\n",
              "      <td>23</td>\n",
              "      <td>59</td>\n",
              "      <td>53</td>\n",
              "    </tr>\n",
              "    <tr>\n",
              "      <th>2</th>\n",
              "      <td>1</td>\n",
              "      <td>1</td>\n",
              "      <td>-73.997437</td>\n",
              "      <td>40.737583</td>\n",
              "      <td>-73.986160</td>\n",
              "      <td>40.729523</td>\n",
              "      <td>N</td>\n",
              "      <td>1.306155</td>\n",
              "      <td>2016</td>\n",
              "      <td>6</td>\n",
              "      <td>30</td>\n",
              "      <td>23</td>\n",
              "      <td>59</td>\n",
              "      <td>47</td>\n",
              "    </tr>\n",
              "    <tr>\n",
              "      <th>3</th>\n",
              "      <td>2</td>\n",
              "      <td>1</td>\n",
              "      <td>-73.956070</td>\n",
              "      <td>40.771900</td>\n",
              "      <td>-73.986427</td>\n",
              "      <td>40.730469</td>\n",
              "      <td>N</td>\n",
              "      <td>5.269088</td>\n",
              "      <td>2016</td>\n",
              "      <td>6</td>\n",
              "      <td>30</td>\n",
              "      <td>23</td>\n",
              "      <td>59</td>\n",
              "      <td>41</td>\n",
              "    </tr>\n",
              "    <tr>\n",
              "      <th>4</th>\n",
              "      <td>1</td>\n",
              "      <td>1</td>\n",
              "      <td>-73.970215</td>\n",
              "      <td>40.761475</td>\n",
              "      <td>-73.961510</td>\n",
              "      <td>40.755890</td>\n",
              "      <td>N</td>\n",
              "      <td>0.960842</td>\n",
              "      <td>2016</td>\n",
              "      <td>6</td>\n",
              "      <td>30</td>\n",
              "      <td>23</td>\n",
              "      <td>59</td>\n",
              "      <td>33</td>\n",
              "    </tr>\n",
              "  </tbody>\n",
              "</table>\n",
              "</div>"
            ],
            "text/plain": [
              "   vendor_id  passenger_count  pickup_longitude  pickup_latitude  \\\n",
              "0          1                1        -73.988129        40.732029   \n",
              "1          1                1        -73.964203        40.679993   \n",
              "2          1                1        -73.997437        40.737583   \n",
              "3          2                1        -73.956070        40.771900   \n",
              "4          1                1        -73.970215        40.761475   \n",
              "\n",
              "   dropoff_longitude  dropoff_latitude store_and_fwd_flag  haversine_distance  \\\n",
              "0         -73.990173         40.756680                  N            2.746426   \n",
              "1         -73.959808         40.655403                  N            2.759239   \n",
              "2         -73.986160         40.729523                  N            1.306155   \n",
              "3         -73.986427         40.730469                  N            5.269088   \n",
              "4         -73.961510         40.755890                  N            0.960842   \n",
              "\n",
              "   pickup_datetime_year  pickup_datetime_month  pickup_datetime_day  \\\n",
              "0                  2016                      6                   30   \n",
              "1                  2016                      6                   30   \n",
              "2                  2016                      6                   30   \n",
              "3                  2016                      6                   30   \n",
              "4                  2016                      6                   30   \n",
              "\n",
              "   pickup_datetime_hour  pickup_datetime_minute  pickup_datetime_second  \n",
              "0                    23                      59                      58  \n",
              "1                    23                      59                      53  \n",
              "2                    23                      59                      47  \n",
              "3                    23                      59                      41  \n",
              "4                    23                      59                      33  "
            ]
          },
          "execution_count": 36,
          "metadata": {},
          "output_type": "execute_result"
        }
      ],
      "source": [
        "df_test = datetime_transformer(df_test, datetime_vars)\n",
        "df_test.head()\n"
      ]
    },
    {
      "cell_type": "code",
      "execution_count": 37,
      "metadata": {},
      "outputs": [
        {
          "data": {
            "text/html": [
              "<div>\n",
              "<style scoped>\n",
              "    .dataframe tbody tr th:only-of-type {\n",
              "        vertical-align: middle;\n",
              "    }\n",
              "\n",
              "    .dataframe tbody tr th {\n",
              "        vertical-align: top;\n",
              "    }\n",
              "\n",
              "    .dataframe thead th {\n",
              "        text-align: right;\n",
              "    }\n",
              "</style>\n",
              "<table border=\"1\" class=\"dataframe\">\n",
              "  <thead>\n",
              "    <tr style=\"text-align: right;\">\n",
              "      <th></th>\n",
              "      <th>vendor_id</th>\n",
              "      <th>passenger_count</th>\n",
              "      <th>pickup_longitude</th>\n",
              "      <th>pickup_latitude</th>\n",
              "      <th>dropoff_longitude</th>\n",
              "      <th>dropoff_latitude</th>\n",
              "      <th>store_and_fwd_flag</th>\n",
              "      <th>trip_duration</th>\n",
              "      <th>haversine_distance</th>\n",
              "      <th>pickup_datetime_year</th>\n",
              "      <th>pickup_datetime_month</th>\n",
              "      <th>pickup_datetime_day</th>\n",
              "      <th>pickup_datetime_hour</th>\n",
              "      <th>pickup_datetime_minute</th>\n",
              "      <th>pickup_datetime_second</th>\n",
              "    </tr>\n",
              "  </thead>\n",
              "  <tbody>\n",
              "    <tr>\n",
              "      <th>0</th>\n",
              "      <td>2</td>\n",
              "      <td>1</td>\n",
              "      <td>-73.862762</td>\n",
              "      <td>40.768822</td>\n",
              "      <td>-73.891701</td>\n",
              "      <td>40.746689</td>\n",
              "      <td>N</td>\n",
              "      <td>1133</td>\n",
              "      <td>3.463778</td>\n",
              "      <td>2016</td>\n",
              "      <td>6</td>\n",
              "      <td>29</td>\n",
              "      <td>18</td>\n",
              "      <td>21</td>\n",
              "      <td>2</td>\n",
              "    </tr>\n",
              "    <tr>\n",
              "      <th>1</th>\n",
              "      <td>2</td>\n",
              "      <td>1</td>\n",
              "      <td>-73.958038</td>\n",
              "      <td>40.783237</td>\n",
              "      <td>-73.975510</td>\n",
              "      <td>40.760853</td>\n",
              "      <td>N</td>\n",
              "      <td>887</td>\n",
              "      <td>2.891365</td>\n",
              "      <td>2016</td>\n",
              "      <td>4</td>\n",
              "      <td>25</td>\n",
              "      <td>13</td>\n",
              "      <td>3</td>\n",
              "      <td>26</td>\n",
              "    </tr>\n",
              "    <tr>\n",
              "      <th>2</th>\n",
              "      <td>2</td>\n",
              "      <td>1</td>\n",
              "      <td>-73.969460</td>\n",
              "      <td>40.785519</td>\n",
              "      <td>-73.989243</td>\n",
              "      <td>40.771748</td>\n",
              "      <td>N</td>\n",
              "      <td>686</td>\n",
              "      <td>2.262636</td>\n",
              "      <td>2016</td>\n",
              "      <td>5</td>\n",
              "      <td>7</td>\n",
              "      <td>12</td>\n",
              "      <td>36</td>\n",
              "      <td>9</td>\n",
              "    </tr>\n",
              "    <tr>\n",
              "      <th>3</th>\n",
              "      <td>1</td>\n",
              "      <td>1</td>\n",
              "      <td>-73.981743</td>\n",
              "      <td>40.736549</td>\n",
              "      <td>-73.998352</td>\n",
              "      <td>40.726440</td>\n",
              "      <td>N</td>\n",
              "      <td>818</td>\n",
              "      <td>1.795030</td>\n",
              "      <td>2016</td>\n",
              "      <td>5</td>\n",
              "      <td>14</td>\n",
              "      <td>18</td>\n",
              "      <td>44</td>\n",
              "      <td>17</td>\n",
              "    </tr>\n",
              "    <tr>\n",
              "      <th>4</th>\n",
              "      <td>2</td>\n",
              "      <td>1</td>\n",
              "      <td>-73.977913</td>\n",
              "      <td>40.752609</td>\n",
              "      <td>-73.975647</td>\n",
              "      <td>40.733139</td>\n",
              "      <td>N</td>\n",
              "      <td>951</td>\n",
              "      <td>2.173389</td>\n",
              "      <td>2016</td>\n",
              "      <td>4</td>\n",
              "      <td>10</td>\n",
              "      <td>22</td>\n",
              "      <td>51</td>\n",
              "      <td>25</td>\n",
              "    </tr>\n",
              "    <tr>\n",
              "      <th>...</th>\n",
              "      <td>...</td>\n",
              "      <td>...</td>\n",
              "      <td>...</td>\n",
              "      <td>...</td>\n",
              "      <td>...</td>\n",
              "      <td>...</td>\n",
              "      <td>...</td>\n",
              "      <td>...</td>\n",
              "      <td>...</td>\n",
              "      <td>...</td>\n",
              "      <td>...</td>\n",
              "      <td>...</td>\n",
              "      <td>...</td>\n",
              "      <td>...</td>\n",
              "      <td>...</td>\n",
              "    </tr>\n",
              "    <tr>\n",
              "      <th>1166910</th>\n",
              "      <td>2</td>\n",
              "      <td>2</td>\n",
              "      <td>-73.955032</td>\n",
              "      <td>40.777328</td>\n",
              "      <td>-74.006203</td>\n",
              "      <td>40.749424</td>\n",
              "      <td>N</td>\n",
              "      <td>1281</td>\n",
              "      <td>5.310383</td>\n",
              "      <td>2016</td>\n",
              "      <td>3</td>\n",
              "      <td>25</td>\n",
              "      <td>7</td>\n",
              "      <td>11</td>\n",
              "      <td>49</td>\n",
              "    </tr>\n",
              "    <tr>\n",
              "      <th>1166911</th>\n",
              "      <td>1</td>\n",
              "      <td>1</td>\n",
              "      <td>-73.973618</td>\n",
              "      <td>40.763920</td>\n",
              "      <td>-73.983849</td>\n",
              "      <td>40.749874</td>\n",
              "      <td>N</td>\n",
              "      <td>833</td>\n",
              "      <td>1.783777</td>\n",
              "      <td>2016</td>\n",
              "      <td>2</td>\n",
              "      <td>16</td>\n",
              "      <td>18</td>\n",
              "      <td>1</td>\n",
              "      <td>45</td>\n",
              "    </tr>\n",
              "    <tr>\n",
              "      <th>1166912</th>\n",
              "      <td>2</td>\n",
              "      <td>1</td>\n",
              "      <td>-74.006195</td>\n",
              "      <td>40.734283</td>\n",
              "      <td>-73.949608</td>\n",
              "      <td>40.785282</td>\n",
              "      <td>N</td>\n",
              "      <td>1285</td>\n",
              "      <td>7.407646</td>\n",
              "      <td>2016</td>\n",
              "      <td>1</td>\n",
              "      <td>26</td>\n",
              "      <td>19</td>\n",
              "      <td>22</td>\n",
              "      <td>29</td>\n",
              "    </tr>\n",
              "    <tr>\n",
              "      <th>1166913</th>\n",
              "      <td>1</td>\n",
              "      <td>1</td>\n",
              "      <td>-73.962341</td>\n",
              "      <td>40.767323</td>\n",
              "      <td>-73.969757</td>\n",
              "      <td>40.768669</td>\n",
              "      <td>N</td>\n",
              "      <td>389</td>\n",
              "      <td>0.642215</td>\n",
              "      <td>2016</td>\n",
              "      <td>1</td>\n",
              "      <td>19</td>\n",
              "      <td>11</td>\n",
              "      <td>53</td>\n",
              "      <td>47</td>\n",
              "    </tr>\n",
              "    <tr>\n",
              "      <th>1166914</th>\n",
              "      <td>2</td>\n",
              "      <td>1</td>\n",
              "      <td>-73.874649</td>\n",
              "      <td>40.774071</td>\n",
              "      <td>-74.004242</td>\n",
              "      <td>40.746899</td>\n",
              "      <td>N</td>\n",
              "      <td>1570</td>\n",
              "      <td>11.325311</td>\n",
              "      <td>2016</td>\n",
              "      <td>2</td>\n",
              "      <td>10</td>\n",
              "      <td>22</td>\n",
              "      <td>39</td>\n",
              "      <td>31</td>\n",
              "    </tr>\n",
              "  </tbody>\n",
              "</table>\n",
              "<p>1166915 rows × 15 columns</p>\n",
              "</div>"
            ],
            "text/plain": [
              "         vendor_id  passenger_count  pickup_longitude  pickup_latitude  \\\n",
              "0                2                1        -73.862762        40.768822   \n",
              "1                2                1        -73.958038        40.783237   \n",
              "2                2                1        -73.969460        40.785519   \n",
              "3                1                1        -73.981743        40.736549   \n",
              "4                2                1        -73.977913        40.752609   \n",
              "...            ...              ...               ...              ...   \n",
              "1166910          2                2        -73.955032        40.777328   \n",
              "1166911          1                1        -73.973618        40.763920   \n",
              "1166912          2                1        -74.006195        40.734283   \n",
              "1166913          1                1        -73.962341        40.767323   \n",
              "1166914          2                1        -73.874649        40.774071   \n",
              "\n",
              "         dropoff_longitude  dropoff_latitude store_and_fwd_flag  \\\n",
              "0               -73.891701         40.746689                  N   \n",
              "1               -73.975510         40.760853                  N   \n",
              "2               -73.989243         40.771748                  N   \n",
              "3               -73.998352         40.726440                  N   \n",
              "4               -73.975647         40.733139                  N   \n",
              "...                    ...               ...                ...   \n",
              "1166910         -74.006203         40.749424                  N   \n",
              "1166911         -73.983849         40.749874                  N   \n",
              "1166912         -73.949608         40.785282                  N   \n",
              "1166913         -73.969757         40.768669                  N   \n",
              "1166914         -74.004242         40.746899                  N   \n",
              "\n",
              "         trip_duration  haversine_distance  pickup_datetime_year  \\\n",
              "0                 1133            3.463778                  2016   \n",
              "1                  887            2.891365                  2016   \n",
              "2                  686            2.262636                  2016   \n",
              "3                  818            1.795030                  2016   \n",
              "4                  951            2.173389                  2016   \n",
              "...                ...                 ...                   ...   \n",
              "1166910           1281            5.310383                  2016   \n",
              "1166911            833            1.783777                  2016   \n",
              "1166912           1285            7.407646                  2016   \n",
              "1166913            389            0.642215                  2016   \n",
              "1166914           1570           11.325311                  2016   \n",
              "\n",
              "         pickup_datetime_month  pickup_datetime_day  pickup_datetime_hour  \\\n",
              "0                            6                   29                    18   \n",
              "1                            4                   25                    13   \n",
              "2                            5                    7                    12   \n",
              "3                            5                   14                    18   \n",
              "4                            4                   10                    22   \n",
              "...                        ...                  ...                   ...   \n",
              "1166910                      3                   25                     7   \n",
              "1166911                      2                   16                    18   \n",
              "1166912                      1                   26                    19   \n",
              "1166913                      1                   19                    11   \n",
              "1166914                      2                   10                    22   \n",
              "\n",
              "         pickup_datetime_minute  pickup_datetime_second  \n",
              "0                            21                       2  \n",
              "1                             3                      26  \n",
              "2                            36                       9  \n",
              "3                            44                      17  \n",
              "4                            51                      25  \n",
              "...                         ...                     ...  \n",
              "1166910                      11                      49  \n",
              "1166911                       1                      45  \n",
              "1166912                      22                      29  \n",
              "1166913                      53                      47  \n",
              "1166914                      39                      31  \n",
              "\n",
              "[1166915 rows x 15 columns]"
            ]
          },
          "execution_count": 37,
          "metadata": {},
          "output_type": "execute_result"
        }
      ],
      "source": [
        "df_train"
      ]
    },
    {
      "cell_type": "code",
      "execution_count": 38,
      "metadata": {
        "colab": {
          "base_uri": "https://localhost:8080/",
          "height": 600
        },
        "id": "LR4J5OY2kBeb",
        "outputId": "e7bfe914-e1df-42af-c77d-5508a5d930c9"
      },
      "outputs": [
        {
          "data": {
            "application/vnd.plotly.v1+json": {
              "config": {
                "plotlyServerURL": "https://plot.ly"
              },
              "data": [
                {
                  "alignmentgroup": "True",
                  "hovertemplate": "Hour of the Day=%{x}<br>Number of Bookings=%{y}<extra></extra>",
                  "legendgroup": "",
                  "marker": {
                    "color": "#636efa",
                    "pattern": {
                      "shape": ""
                    }
                  },
                  "name": "",
                  "offsetgroup": "",
                  "orientation": "v",
                  "showlegend": false,
                  "textposition": "auto",
                  "type": "bar",
                  "x": [
                    0,
                    1,
                    2,
                    3,
                    4,
                    5,
                    6,
                    7,
                    8,
                    9,
                    10,
                    11,
                    12,
                    13,
                    14,
                    15,
                    16,
                    17,
                    18,
                    19,
                    20,
                    21,
                    22,
                    23
                  ],
                  "xaxis": "x",
                  "y": [
                    42947,
                    30778,
                    22446,
                    16648,
                    12582,
                    11982,
                    26621,
                    44378,
                    53761,
                    54029,
                    52319,
                    54595,
                    57742,
                    57203,
                    59406,
                    57336,
                    51347,
                    61133,
                    72593,
                    72277,
                    67310,
                    67361,
                    64454,
                    55667
                  ],
                  "yaxis": "y"
                }
              ],
              "layout": {
                "barmode": "relative",
                "legend": {
                  "tracegroupgap": 0
                },
                "template": {
                  "data": {
                    "bar": [
                      {
                        "error_x": {
                          "color": "#2a3f5f"
                        },
                        "error_y": {
                          "color": "#2a3f5f"
                        },
                        "marker": {
                          "line": {
                            "color": "#E5ECF6",
                            "width": 0.5
                          },
                          "pattern": {
                            "fillmode": "overlay",
                            "size": 10,
                            "solidity": 0.2
                          }
                        },
                        "type": "bar"
                      }
                    ],
                    "barpolar": [
                      {
                        "marker": {
                          "line": {
                            "color": "#E5ECF6",
                            "width": 0.5
                          },
                          "pattern": {
                            "fillmode": "overlay",
                            "size": 10,
                            "solidity": 0.2
                          }
                        },
                        "type": "barpolar"
                      }
                    ],
                    "carpet": [
                      {
                        "aaxis": {
                          "endlinecolor": "#2a3f5f",
                          "gridcolor": "white",
                          "linecolor": "white",
                          "minorgridcolor": "white",
                          "startlinecolor": "#2a3f5f"
                        },
                        "baxis": {
                          "endlinecolor": "#2a3f5f",
                          "gridcolor": "white",
                          "linecolor": "white",
                          "minorgridcolor": "white",
                          "startlinecolor": "#2a3f5f"
                        },
                        "type": "carpet"
                      }
                    ],
                    "choropleth": [
                      {
                        "colorbar": {
                          "outlinewidth": 0,
                          "ticks": ""
                        },
                        "type": "choropleth"
                      }
                    ],
                    "contour": [
                      {
                        "colorbar": {
                          "outlinewidth": 0,
                          "ticks": ""
                        },
                        "colorscale": [
                          [
                            0,
                            "#0d0887"
                          ],
                          [
                            0.1111111111111111,
                            "#46039f"
                          ],
                          [
                            0.2222222222222222,
                            "#7201a8"
                          ],
                          [
                            0.3333333333333333,
                            "#9c179e"
                          ],
                          [
                            0.4444444444444444,
                            "#bd3786"
                          ],
                          [
                            0.5555555555555556,
                            "#d8576b"
                          ],
                          [
                            0.6666666666666666,
                            "#ed7953"
                          ],
                          [
                            0.7777777777777778,
                            "#fb9f3a"
                          ],
                          [
                            0.8888888888888888,
                            "#fdca26"
                          ],
                          [
                            1,
                            "#f0f921"
                          ]
                        ],
                        "type": "contour"
                      }
                    ],
                    "contourcarpet": [
                      {
                        "colorbar": {
                          "outlinewidth": 0,
                          "ticks": ""
                        },
                        "type": "contourcarpet"
                      }
                    ],
                    "heatmap": [
                      {
                        "colorbar": {
                          "outlinewidth": 0,
                          "ticks": ""
                        },
                        "colorscale": [
                          [
                            0,
                            "#0d0887"
                          ],
                          [
                            0.1111111111111111,
                            "#46039f"
                          ],
                          [
                            0.2222222222222222,
                            "#7201a8"
                          ],
                          [
                            0.3333333333333333,
                            "#9c179e"
                          ],
                          [
                            0.4444444444444444,
                            "#bd3786"
                          ],
                          [
                            0.5555555555555556,
                            "#d8576b"
                          ],
                          [
                            0.6666666666666666,
                            "#ed7953"
                          ],
                          [
                            0.7777777777777778,
                            "#fb9f3a"
                          ],
                          [
                            0.8888888888888888,
                            "#fdca26"
                          ],
                          [
                            1,
                            "#f0f921"
                          ]
                        ],
                        "type": "heatmap"
                      }
                    ],
                    "heatmapgl": [
                      {
                        "colorbar": {
                          "outlinewidth": 0,
                          "ticks": ""
                        },
                        "colorscale": [
                          [
                            0,
                            "#0d0887"
                          ],
                          [
                            0.1111111111111111,
                            "#46039f"
                          ],
                          [
                            0.2222222222222222,
                            "#7201a8"
                          ],
                          [
                            0.3333333333333333,
                            "#9c179e"
                          ],
                          [
                            0.4444444444444444,
                            "#bd3786"
                          ],
                          [
                            0.5555555555555556,
                            "#d8576b"
                          ],
                          [
                            0.6666666666666666,
                            "#ed7953"
                          ],
                          [
                            0.7777777777777778,
                            "#fb9f3a"
                          ],
                          [
                            0.8888888888888888,
                            "#fdca26"
                          ],
                          [
                            1,
                            "#f0f921"
                          ]
                        ],
                        "type": "heatmapgl"
                      }
                    ],
                    "histogram": [
                      {
                        "marker": {
                          "pattern": {
                            "fillmode": "overlay",
                            "size": 10,
                            "solidity": 0.2
                          }
                        },
                        "type": "histogram"
                      }
                    ],
                    "histogram2d": [
                      {
                        "colorbar": {
                          "outlinewidth": 0,
                          "ticks": ""
                        },
                        "colorscale": [
                          [
                            0,
                            "#0d0887"
                          ],
                          [
                            0.1111111111111111,
                            "#46039f"
                          ],
                          [
                            0.2222222222222222,
                            "#7201a8"
                          ],
                          [
                            0.3333333333333333,
                            "#9c179e"
                          ],
                          [
                            0.4444444444444444,
                            "#bd3786"
                          ],
                          [
                            0.5555555555555556,
                            "#d8576b"
                          ],
                          [
                            0.6666666666666666,
                            "#ed7953"
                          ],
                          [
                            0.7777777777777778,
                            "#fb9f3a"
                          ],
                          [
                            0.8888888888888888,
                            "#fdca26"
                          ],
                          [
                            1,
                            "#f0f921"
                          ]
                        ],
                        "type": "histogram2d"
                      }
                    ],
                    "histogram2dcontour": [
                      {
                        "colorbar": {
                          "outlinewidth": 0,
                          "ticks": ""
                        },
                        "colorscale": [
                          [
                            0,
                            "#0d0887"
                          ],
                          [
                            0.1111111111111111,
                            "#46039f"
                          ],
                          [
                            0.2222222222222222,
                            "#7201a8"
                          ],
                          [
                            0.3333333333333333,
                            "#9c179e"
                          ],
                          [
                            0.4444444444444444,
                            "#bd3786"
                          ],
                          [
                            0.5555555555555556,
                            "#d8576b"
                          ],
                          [
                            0.6666666666666666,
                            "#ed7953"
                          ],
                          [
                            0.7777777777777778,
                            "#fb9f3a"
                          ],
                          [
                            0.8888888888888888,
                            "#fdca26"
                          ],
                          [
                            1,
                            "#f0f921"
                          ]
                        ],
                        "type": "histogram2dcontour"
                      }
                    ],
                    "mesh3d": [
                      {
                        "colorbar": {
                          "outlinewidth": 0,
                          "ticks": ""
                        },
                        "type": "mesh3d"
                      }
                    ],
                    "parcoords": [
                      {
                        "line": {
                          "colorbar": {
                            "outlinewidth": 0,
                            "ticks": ""
                          }
                        },
                        "type": "parcoords"
                      }
                    ],
                    "pie": [
                      {
                        "automargin": true,
                        "type": "pie"
                      }
                    ],
                    "scatter": [
                      {
                        "fillpattern": {
                          "fillmode": "overlay",
                          "size": 10,
                          "solidity": 0.2
                        },
                        "type": "scatter"
                      }
                    ],
                    "scatter3d": [
                      {
                        "line": {
                          "colorbar": {
                            "outlinewidth": 0,
                            "ticks": ""
                          }
                        },
                        "marker": {
                          "colorbar": {
                            "outlinewidth": 0,
                            "ticks": ""
                          }
                        },
                        "type": "scatter3d"
                      }
                    ],
                    "scattercarpet": [
                      {
                        "marker": {
                          "colorbar": {
                            "outlinewidth": 0,
                            "ticks": ""
                          }
                        },
                        "type": "scattercarpet"
                      }
                    ],
                    "scattergeo": [
                      {
                        "marker": {
                          "colorbar": {
                            "outlinewidth": 0,
                            "ticks": ""
                          }
                        },
                        "type": "scattergeo"
                      }
                    ],
                    "scattergl": [
                      {
                        "marker": {
                          "colorbar": {
                            "outlinewidth": 0,
                            "ticks": ""
                          }
                        },
                        "type": "scattergl"
                      }
                    ],
                    "scattermapbox": [
                      {
                        "marker": {
                          "colorbar": {
                            "outlinewidth": 0,
                            "ticks": ""
                          }
                        },
                        "type": "scattermapbox"
                      }
                    ],
                    "scatterpolar": [
                      {
                        "marker": {
                          "colorbar": {
                            "outlinewidth": 0,
                            "ticks": ""
                          }
                        },
                        "type": "scatterpolar"
                      }
                    ],
                    "scatterpolargl": [
                      {
                        "marker": {
                          "colorbar": {
                            "outlinewidth": 0,
                            "ticks": ""
                          }
                        },
                        "type": "scatterpolargl"
                      }
                    ],
                    "scatterternary": [
                      {
                        "marker": {
                          "colorbar": {
                            "outlinewidth": 0,
                            "ticks": ""
                          }
                        },
                        "type": "scatterternary"
                      }
                    ],
                    "surface": [
                      {
                        "colorbar": {
                          "outlinewidth": 0,
                          "ticks": ""
                        },
                        "colorscale": [
                          [
                            0,
                            "#0d0887"
                          ],
                          [
                            0.1111111111111111,
                            "#46039f"
                          ],
                          [
                            0.2222222222222222,
                            "#7201a8"
                          ],
                          [
                            0.3333333333333333,
                            "#9c179e"
                          ],
                          [
                            0.4444444444444444,
                            "#bd3786"
                          ],
                          [
                            0.5555555555555556,
                            "#d8576b"
                          ],
                          [
                            0.6666666666666666,
                            "#ed7953"
                          ],
                          [
                            0.7777777777777778,
                            "#fb9f3a"
                          ],
                          [
                            0.8888888888888888,
                            "#fdca26"
                          ],
                          [
                            1,
                            "#f0f921"
                          ]
                        ],
                        "type": "surface"
                      }
                    ],
                    "table": [
                      {
                        "cells": {
                          "fill": {
                            "color": "#EBF0F8"
                          },
                          "line": {
                            "color": "white"
                          }
                        },
                        "header": {
                          "fill": {
                            "color": "#C8D4E3"
                          },
                          "line": {
                            "color": "white"
                          }
                        },
                        "type": "table"
                      }
                    ]
                  },
                  "layout": {
                    "annotationdefaults": {
                      "arrowcolor": "#2a3f5f",
                      "arrowhead": 0,
                      "arrowwidth": 1
                    },
                    "autotypenumbers": "strict",
                    "coloraxis": {
                      "colorbar": {
                        "outlinewidth": 0,
                        "ticks": ""
                      }
                    },
                    "colorscale": {
                      "diverging": [
                        [
                          0,
                          "#8e0152"
                        ],
                        [
                          0.1,
                          "#c51b7d"
                        ],
                        [
                          0.2,
                          "#de77ae"
                        ],
                        [
                          0.3,
                          "#f1b6da"
                        ],
                        [
                          0.4,
                          "#fde0ef"
                        ],
                        [
                          0.5,
                          "#f7f7f7"
                        ],
                        [
                          0.6,
                          "#e6f5d0"
                        ],
                        [
                          0.7,
                          "#b8e186"
                        ],
                        [
                          0.8,
                          "#7fbc41"
                        ],
                        [
                          0.9,
                          "#4d9221"
                        ],
                        [
                          1,
                          "#276419"
                        ]
                      ],
                      "sequential": [
                        [
                          0,
                          "#0d0887"
                        ],
                        [
                          0.1111111111111111,
                          "#46039f"
                        ],
                        [
                          0.2222222222222222,
                          "#7201a8"
                        ],
                        [
                          0.3333333333333333,
                          "#9c179e"
                        ],
                        [
                          0.4444444444444444,
                          "#bd3786"
                        ],
                        [
                          0.5555555555555556,
                          "#d8576b"
                        ],
                        [
                          0.6666666666666666,
                          "#ed7953"
                        ],
                        [
                          0.7777777777777778,
                          "#fb9f3a"
                        ],
                        [
                          0.8888888888888888,
                          "#fdca26"
                        ],
                        [
                          1,
                          "#f0f921"
                        ]
                      ],
                      "sequentialminus": [
                        [
                          0,
                          "#0d0887"
                        ],
                        [
                          0.1111111111111111,
                          "#46039f"
                        ],
                        [
                          0.2222222222222222,
                          "#7201a8"
                        ],
                        [
                          0.3333333333333333,
                          "#9c179e"
                        ],
                        [
                          0.4444444444444444,
                          "#bd3786"
                        ],
                        [
                          0.5555555555555556,
                          "#d8576b"
                        ],
                        [
                          0.6666666666666666,
                          "#ed7953"
                        ],
                        [
                          0.7777777777777778,
                          "#fb9f3a"
                        ],
                        [
                          0.8888888888888888,
                          "#fdca26"
                        ],
                        [
                          1,
                          "#f0f921"
                        ]
                      ]
                    },
                    "colorway": [
                      "#636efa",
                      "#EF553B",
                      "#00cc96",
                      "#ab63fa",
                      "#FFA15A",
                      "#19d3f3",
                      "#FF6692",
                      "#B6E880",
                      "#FF97FF",
                      "#FECB52"
                    ],
                    "font": {
                      "color": "#2a3f5f"
                    },
                    "geo": {
                      "bgcolor": "white",
                      "lakecolor": "white",
                      "landcolor": "#E5ECF6",
                      "showlakes": true,
                      "showland": true,
                      "subunitcolor": "white"
                    },
                    "hoverlabel": {
                      "align": "left"
                    },
                    "hovermode": "closest",
                    "mapbox": {
                      "style": "light"
                    },
                    "paper_bgcolor": "white",
                    "plot_bgcolor": "#E5ECF6",
                    "polar": {
                      "angularaxis": {
                        "gridcolor": "white",
                        "linecolor": "white",
                        "ticks": ""
                      },
                      "bgcolor": "#E5ECF6",
                      "radialaxis": {
                        "gridcolor": "white",
                        "linecolor": "white",
                        "ticks": ""
                      }
                    },
                    "scene": {
                      "xaxis": {
                        "backgroundcolor": "#E5ECF6",
                        "gridcolor": "white",
                        "gridwidth": 2,
                        "linecolor": "white",
                        "showbackground": true,
                        "ticks": "",
                        "zerolinecolor": "white"
                      },
                      "yaxis": {
                        "backgroundcolor": "#E5ECF6",
                        "gridcolor": "white",
                        "gridwidth": 2,
                        "linecolor": "white",
                        "showbackground": true,
                        "ticks": "",
                        "zerolinecolor": "white"
                      },
                      "zaxis": {
                        "backgroundcolor": "#E5ECF6",
                        "gridcolor": "white",
                        "gridwidth": 2,
                        "linecolor": "white",
                        "showbackground": true,
                        "ticks": "",
                        "zerolinecolor": "white"
                      }
                    },
                    "shapedefaults": {
                      "line": {
                        "color": "#2a3f5f"
                      }
                    },
                    "ternary": {
                      "aaxis": {
                        "gridcolor": "white",
                        "linecolor": "white",
                        "ticks": ""
                      },
                      "baxis": {
                        "gridcolor": "white",
                        "linecolor": "white",
                        "ticks": ""
                      },
                      "bgcolor": "#E5ECF6",
                      "caxis": {
                        "gridcolor": "white",
                        "linecolor": "white",
                        "ticks": ""
                      }
                    },
                    "title": {
                      "x": 0.05
                    },
                    "xaxis": {
                      "automargin": true,
                      "gridcolor": "white",
                      "linecolor": "white",
                      "ticks": "",
                      "title": {
                        "standoff": 15
                      },
                      "zerolinecolor": "white",
                      "zerolinewidth": 2
                    },
                    "yaxis": {
                      "automargin": true,
                      "gridcolor": "white",
                      "linecolor": "white",
                      "ticks": "",
                      "title": {
                        "standoff": 15
                      },
                      "zerolinecolor": "white",
                      "zerolinewidth": 2
                    }
                  }
                },
                "title": {
                  "text": "Number of Bookings vs. Hour of the Day"
                },
                "xaxis": {
                  "anchor": "y",
                  "domain": [
                    0,
                    1
                  ],
                  "dtick": 1,
                  "tickmode": "linear",
                  "title": {
                    "text": "Hour of the Day"
                  }
                },
                "yaxis": {
                  "anchor": "x",
                  "domain": [
                    0,
                    1
                  ],
                  "title": {
                    "text": "Number of Bookings"
                  }
                }
              }
            }
          },
          "metadata": {},
          "output_type": "display_data"
        }
      ],
      "source": [
        "# Rush Hours or Not based on time\n",
        "import plotly.express as px\n",
        "\n",
        "n_bookings_per_hour = df_train['pickup_datetime_hour'].value_counts().reset_index()\n",
        "n_bookings_per_hour.columns = ['Hour of the Day', 'Number of Bookings']\n",
        "n_bookings_per_hour = n_bookings_per_hour.sort_values(by='Hour of the Day')\n",
        "\n",
        "fig = px.bar(n_bookings_per_hour, x='Hour of the Day', y='Number of Bookings', \n",
        "             labels={'Hour of the Day': 'Hour of the Day', 'Number of Bookings': 'Number of Bookings'},\n",
        "             title='Number of Bookings vs. Hour of the Day')\n",
        "fig.update_xaxes(tickmode='linear', dtick=1)\n",
        "\n",
        "fig.show()"
      ]
    },
    {
      "cell_type": "code",
      "execution_count": 39,
      "metadata": {},
      "outputs": [
        {
          "data": {
            "text/html": [
              "<div>\n",
              "<style scoped>\n",
              "    .dataframe tbody tr th:only-of-type {\n",
              "        vertical-align: middle;\n",
              "    }\n",
              "\n",
              "    .dataframe tbody tr th {\n",
              "        vertical-align: top;\n",
              "    }\n",
              "\n",
              "    .dataframe thead th {\n",
              "        text-align: right;\n",
              "    }\n",
              "</style>\n",
              "<table border=\"1\" class=\"dataframe\">\n",
              "  <thead>\n",
              "    <tr style=\"text-align: right;\">\n",
              "      <th></th>\n",
              "      <th>vendor_id</th>\n",
              "      <th>passenger_count</th>\n",
              "      <th>pickup_longitude</th>\n",
              "      <th>pickup_latitude</th>\n",
              "      <th>dropoff_longitude</th>\n",
              "      <th>dropoff_latitude</th>\n",
              "      <th>store_and_fwd_flag</th>\n",
              "      <th>trip_duration</th>\n",
              "      <th>haversine_distance</th>\n",
              "      <th>pickup_datetime_year</th>\n",
              "      <th>pickup_datetime_month</th>\n",
              "      <th>pickup_datetime_day</th>\n",
              "      <th>pickup_datetime_hour</th>\n",
              "      <th>pickup_datetime_minute</th>\n",
              "      <th>pickup_datetime_second</th>\n",
              "    </tr>\n",
              "  </thead>\n",
              "  <tbody>\n",
              "    <tr>\n",
              "      <th>0</th>\n",
              "      <td>2</td>\n",
              "      <td>1</td>\n",
              "      <td>-73.862762</td>\n",
              "      <td>40.768822</td>\n",
              "      <td>-73.891701</td>\n",
              "      <td>40.746689</td>\n",
              "      <td>N</td>\n",
              "      <td>1133</td>\n",
              "      <td>3.463778</td>\n",
              "      <td>2016</td>\n",
              "      <td>6</td>\n",
              "      <td>29</td>\n",
              "      <td>18</td>\n",
              "      <td>21</td>\n",
              "      <td>2</td>\n",
              "    </tr>\n",
              "    <tr>\n",
              "      <th>1</th>\n",
              "      <td>2</td>\n",
              "      <td>1</td>\n",
              "      <td>-73.958038</td>\n",
              "      <td>40.783237</td>\n",
              "      <td>-73.975510</td>\n",
              "      <td>40.760853</td>\n",
              "      <td>N</td>\n",
              "      <td>887</td>\n",
              "      <td>2.891365</td>\n",
              "      <td>2016</td>\n",
              "      <td>4</td>\n",
              "      <td>25</td>\n",
              "      <td>13</td>\n",
              "      <td>3</td>\n",
              "      <td>26</td>\n",
              "    </tr>\n",
              "    <tr>\n",
              "      <th>2</th>\n",
              "      <td>2</td>\n",
              "      <td>1</td>\n",
              "      <td>-73.969460</td>\n",
              "      <td>40.785519</td>\n",
              "      <td>-73.989243</td>\n",
              "      <td>40.771748</td>\n",
              "      <td>N</td>\n",
              "      <td>686</td>\n",
              "      <td>2.262636</td>\n",
              "      <td>2016</td>\n",
              "      <td>5</td>\n",
              "      <td>7</td>\n",
              "      <td>12</td>\n",
              "      <td>36</td>\n",
              "      <td>9</td>\n",
              "    </tr>\n",
              "    <tr>\n",
              "      <th>3</th>\n",
              "      <td>1</td>\n",
              "      <td>1</td>\n",
              "      <td>-73.981743</td>\n",
              "      <td>40.736549</td>\n",
              "      <td>-73.998352</td>\n",
              "      <td>40.726440</td>\n",
              "      <td>N</td>\n",
              "      <td>818</td>\n",
              "      <td>1.795030</td>\n",
              "      <td>2016</td>\n",
              "      <td>5</td>\n",
              "      <td>14</td>\n",
              "      <td>18</td>\n",
              "      <td>44</td>\n",
              "      <td>17</td>\n",
              "    </tr>\n",
              "    <tr>\n",
              "      <th>4</th>\n",
              "      <td>2</td>\n",
              "      <td>1</td>\n",
              "      <td>-73.977913</td>\n",
              "      <td>40.752609</td>\n",
              "      <td>-73.975647</td>\n",
              "      <td>40.733139</td>\n",
              "      <td>N</td>\n",
              "      <td>951</td>\n",
              "      <td>2.173389</td>\n",
              "      <td>2016</td>\n",
              "      <td>4</td>\n",
              "      <td>10</td>\n",
              "      <td>22</td>\n",
              "      <td>51</td>\n",
              "      <td>25</td>\n",
              "    </tr>\n",
              "    <tr>\n",
              "      <th>...</th>\n",
              "      <td>...</td>\n",
              "      <td>...</td>\n",
              "      <td>...</td>\n",
              "      <td>...</td>\n",
              "      <td>...</td>\n",
              "      <td>...</td>\n",
              "      <td>...</td>\n",
              "      <td>...</td>\n",
              "      <td>...</td>\n",
              "      <td>...</td>\n",
              "      <td>...</td>\n",
              "      <td>...</td>\n",
              "      <td>...</td>\n",
              "      <td>...</td>\n",
              "      <td>...</td>\n",
              "    </tr>\n",
              "    <tr>\n",
              "      <th>1166910</th>\n",
              "      <td>2</td>\n",
              "      <td>2</td>\n",
              "      <td>-73.955032</td>\n",
              "      <td>40.777328</td>\n",
              "      <td>-74.006203</td>\n",
              "      <td>40.749424</td>\n",
              "      <td>N</td>\n",
              "      <td>1281</td>\n",
              "      <td>5.310383</td>\n",
              "      <td>2016</td>\n",
              "      <td>3</td>\n",
              "      <td>25</td>\n",
              "      <td>7</td>\n",
              "      <td>11</td>\n",
              "      <td>49</td>\n",
              "    </tr>\n",
              "    <tr>\n",
              "      <th>1166911</th>\n",
              "      <td>1</td>\n",
              "      <td>1</td>\n",
              "      <td>-73.973618</td>\n",
              "      <td>40.763920</td>\n",
              "      <td>-73.983849</td>\n",
              "      <td>40.749874</td>\n",
              "      <td>N</td>\n",
              "      <td>833</td>\n",
              "      <td>1.783777</td>\n",
              "      <td>2016</td>\n",
              "      <td>2</td>\n",
              "      <td>16</td>\n",
              "      <td>18</td>\n",
              "      <td>1</td>\n",
              "      <td>45</td>\n",
              "    </tr>\n",
              "    <tr>\n",
              "      <th>1166912</th>\n",
              "      <td>2</td>\n",
              "      <td>1</td>\n",
              "      <td>-74.006195</td>\n",
              "      <td>40.734283</td>\n",
              "      <td>-73.949608</td>\n",
              "      <td>40.785282</td>\n",
              "      <td>N</td>\n",
              "      <td>1285</td>\n",
              "      <td>7.407646</td>\n",
              "      <td>2016</td>\n",
              "      <td>1</td>\n",
              "      <td>26</td>\n",
              "      <td>19</td>\n",
              "      <td>22</td>\n",
              "      <td>29</td>\n",
              "    </tr>\n",
              "    <tr>\n",
              "      <th>1166913</th>\n",
              "      <td>1</td>\n",
              "      <td>1</td>\n",
              "      <td>-73.962341</td>\n",
              "      <td>40.767323</td>\n",
              "      <td>-73.969757</td>\n",
              "      <td>40.768669</td>\n",
              "      <td>N</td>\n",
              "      <td>389</td>\n",
              "      <td>0.642215</td>\n",
              "      <td>2016</td>\n",
              "      <td>1</td>\n",
              "      <td>19</td>\n",
              "      <td>11</td>\n",
              "      <td>53</td>\n",
              "      <td>47</td>\n",
              "    </tr>\n",
              "    <tr>\n",
              "      <th>1166914</th>\n",
              "      <td>2</td>\n",
              "      <td>1</td>\n",
              "      <td>-73.874649</td>\n",
              "      <td>40.774071</td>\n",
              "      <td>-74.004242</td>\n",
              "      <td>40.746899</td>\n",
              "      <td>N</td>\n",
              "      <td>1570</td>\n",
              "      <td>11.325311</td>\n",
              "      <td>2016</td>\n",
              "      <td>2</td>\n",
              "      <td>10</td>\n",
              "      <td>22</td>\n",
              "      <td>39</td>\n",
              "      <td>31</td>\n",
              "    </tr>\n",
              "  </tbody>\n",
              "</table>\n",
              "<p>1166915 rows × 15 columns</p>\n",
              "</div>"
            ],
            "text/plain": [
              "         vendor_id  passenger_count  pickup_longitude  pickup_latitude  \\\n",
              "0                2                1        -73.862762        40.768822   \n",
              "1                2                1        -73.958038        40.783237   \n",
              "2                2                1        -73.969460        40.785519   \n",
              "3                1                1        -73.981743        40.736549   \n",
              "4                2                1        -73.977913        40.752609   \n",
              "...            ...              ...               ...              ...   \n",
              "1166910          2                2        -73.955032        40.777328   \n",
              "1166911          1                1        -73.973618        40.763920   \n",
              "1166912          2                1        -74.006195        40.734283   \n",
              "1166913          1                1        -73.962341        40.767323   \n",
              "1166914          2                1        -73.874649        40.774071   \n",
              "\n",
              "         dropoff_longitude  dropoff_latitude store_and_fwd_flag  \\\n",
              "0               -73.891701         40.746689                  N   \n",
              "1               -73.975510         40.760853                  N   \n",
              "2               -73.989243         40.771748                  N   \n",
              "3               -73.998352         40.726440                  N   \n",
              "4               -73.975647         40.733139                  N   \n",
              "...                    ...               ...                ...   \n",
              "1166910         -74.006203         40.749424                  N   \n",
              "1166911         -73.983849         40.749874                  N   \n",
              "1166912         -73.949608         40.785282                  N   \n",
              "1166913         -73.969757         40.768669                  N   \n",
              "1166914         -74.004242         40.746899                  N   \n",
              "\n",
              "         trip_duration  haversine_distance  pickup_datetime_year  \\\n",
              "0                 1133            3.463778                  2016   \n",
              "1                  887            2.891365                  2016   \n",
              "2                  686            2.262636                  2016   \n",
              "3                  818            1.795030                  2016   \n",
              "4                  951            2.173389                  2016   \n",
              "...                ...                 ...                   ...   \n",
              "1166910           1281            5.310383                  2016   \n",
              "1166911            833            1.783777                  2016   \n",
              "1166912           1285            7.407646                  2016   \n",
              "1166913            389            0.642215                  2016   \n",
              "1166914           1570           11.325311                  2016   \n",
              "\n",
              "         pickup_datetime_month  pickup_datetime_day  pickup_datetime_hour  \\\n",
              "0                            6                   29                    18   \n",
              "1                            4                   25                    13   \n",
              "2                            5                    7                    12   \n",
              "3                            5                   14                    18   \n",
              "4                            4                   10                    22   \n",
              "...                        ...                  ...                   ...   \n",
              "1166910                      3                   25                     7   \n",
              "1166911                      2                   16                    18   \n",
              "1166912                      1                   26                    19   \n",
              "1166913                      1                   19                    11   \n",
              "1166914                      2                   10                    22   \n",
              "\n",
              "         pickup_datetime_minute  pickup_datetime_second  \n",
              "0                            21                       2  \n",
              "1                             3                      26  \n",
              "2                            36                       9  \n",
              "3                            44                      17  \n",
              "4                            51                      25  \n",
              "...                         ...                     ...  \n",
              "1166910                      11                      49  \n",
              "1166911                       1                      45  \n",
              "1166912                      22                      29  \n",
              "1166913                      53                      47  \n",
              "1166914                      39                      31  \n",
              "\n",
              "[1166915 rows x 15 columns]"
            ]
          },
          "execution_count": 39,
          "metadata": {},
          "output_type": "execute_result"
        }
      ],
      "source": [
        "df_train"
      ]
    },
    {
      "cell_type": "code",
      "execution_count": 40,
      "metadata": {
        "id": "zyjIX7A0mjp-"
      },
      "outputs": [],
      "source": [
        "# Taking 7am - 7 pm as Rush Hours\n",
        "df_train['rush'] = df_train['pickup_datetime_hour'].apply(lambda x: 'Rush' if  7 <= x < 19 else 'Non-rush')\n",
        "df_test['rush'] = df_test['pickup_datetime_hour'].apply(lambda x: 'Rush' if  7 <= x < 19 else 'Non-rush')\n",
        "df_val['rush'] = df_val['pickup_datetime_hour'].apply(lambda x: 'Rush' if  7 <= x < 19 else 'Non-rush')"
      ]
    },
    {
      "cell_type": "code",
      "execution_count": 41,
      "metadata": {},
      "outputs": [
        {
          "data": {
            "text/html": [
              "<div>\n",
              "<style scoped>\n",
              "    .dataframe tbody tr th:only-of-type {\n",
              "        vertical-align: middle;\n",
              "    }\n",
              "\n",
              "    .dataframe tbody tr th {\n",
              "        vertical-align: top;\n",
              "    }\n",
              "\n",
              "    .dataframe thead th {\n",
              "        text-align: right;\n",
              "    }\n",
              "</style>\n",
              "<table border=\"1\" class=\"dataframe\">\n",
              "  <thead>\n",
              "    <tr style=\"text-align: right;\">\n",
              "      <th></th>\n",
              "      <th>vendor_id</th>\n",
              "      <th>passenger_count</th>\n",
              "      <th>pickup_longitude</th>\n",
              "      <th>pickup_latitude</th>\n",
              "      <th>dropoff_longitude</th>\n",
              "      <th>dropoff_latitude</th>\n",
              "      <th>store_and_fwd_flag</th>\n",
              "      <th>trip_duration</th>\n",
              "      <th>haversine_distance</th>\n",
              "      <th>pickup_datetime_year</th>\n",
              "      <th>pickup_datetime_month</th>\n",
              "      <th>pickup_datetime_day</th>\n",
              "      <th>pickup_datetime_hour</th>\n",
              "      <th>pickup_datetime_minute</th>\n",
              "      <th>pickup_datetime_second</th>\n",
              "      <th>rush</th>\n",
              "    </tr>\n",
              "  </thead>\n",
              "  <tbody>\n",
              "    <tr>\n",
              "      <th>0</th>\n",
              "      <td>2</td>\n",
              "      <td>1</td>\n",
              "      <td>-73.862762</td>\n",
              "      <td>40.768822</td>\n",
              "      <td>-73.891701</td>\n",
              "      <td>40.746689</td>\n",
              "      <td>N</td>\n",
              "      <td>1133</td>\n",
              "      <td>3.463778</td>\n",
              "      <td>2016</td>\n",
              "      <td>6</td>\n",
              "      <td>29</td>\n",
              "      <td>18</td>\n",
              "      <td>21</td>\n",
              "      <td>2</td>\n",
              "      <td>Rush</td>\n",
              "    </tr>\n",
              "    <tr>\n",
              "      <th>1</th>\n",
              "      <td>2</td>\n",
              "      <td>1</td>\n",
              "      <td>-73.958038</td>\n",
              "      <td>40.783237</td>\n",
              "      <td>-73.975510</td>\n",
              "      <td>40.760853</td>\n",
              "      <td>N</td>\n",
              "      <td>887</td>\n",
              "      <td>2.891365</td>\n",
              "      <td>2016</td>\n",
              "      <td>4</td>\n",
              "      <td>25</td>\n",
              "      <td>13</td>\n",
              "      <td>3</td>\n",
              "      <td>26</td>\n",
              "      <td>Rush</td>\n",
              "    </tr>\n",
              "    <tr>\n",
              "      <th>2</th>\n",
              "      <td>2</td>\n",
              "      <td>1</td>\n",
              "      <td>-73.969460</td>\n",
              "      <td>40.785519</td>\n",
              "      <td>-73.989243</td>\n",
              "      <td>40.771748</td>\n",
              "      <td>N</td>\n",
              "      <td>686</td>\n",
              "      <td>2.262636</td>\n",
              "      <td>2016</td>\n",
              "      <td>5</td>\n",
              "      <td>7</td>\n",
              "      <td>12</td>\n",
              "      <td>36</td>\n",
              "      <td>9</td>\n",
              "      <td>Rush</td>\n",
              "    </tr>\n",
              "    <tr>\n",
              "      <th>3</th>\n",
              "      <td>1</td>\n",
              "      <td>1</td>\n",
              "      <td>-73.981743</td>\n",
              "      <td>40.736549</td>\n",
              "      <td>-73.998352</td>\n",
              "      <td>40.726440</td>\n",
              "      <td>N</td>\n",
              "      <td>818</td>\n",
              "      <td>1.795030</td>\n",
              "      <td>2016</td>\n",
              "      <td>5</td>\n",
              "      <td>14</td>\n",
              "      <td>18</td>\n",
              "      <td>44</td>\n",
              "      <td>17</td>\n",
              "      <td>Rush</td>\n",
              "    </tr>\n",
              "    <tr>\n",
              "      <th>4</th>\n",
              "      <td>2</td>\n",
              "      <td>1</td>\n",
              "      <td>-73.977913</td>\n",
              "      <td>40.752609</td>\n",
              "      <td>-73.975647</td>\n",
              "      <td>40.733139</td>\n",
              "      <td>N</td>\n",
              "      <td>951</td>\n",
              "      <td>2.173389</td>\n",
              "      <td>2016</td>\n",
              "      <td>4</td>\n",
              "      <td>10</td>\n",
              "      <td>22</td>\n",
              "      <td>51</td>\n",
              "      <td>25</td>\n",
              "      <td>Non-rush</td>\n",
              "    </tr>\n",
              "    <tr>\n",
              "      <th>...</th>\n",
              "      <td>...</td>\n",
              "      <td>...</td>\n",
              "      <td>...</td>\n",
              "      <td>...</td>\n",
              "      <td>...</td>\n",
              "      <td>...</td>\n",
              "      <td>...</td>\n",
              "      <td>...</td>\n",
              "      <td>...</td>\n",
              "      <td>...</td>\n",
              "      <td>...</td>\n",
              "      <td>...</td>\n",
              "      <td>...</td>\n",
              "      <td>...</td>\n",
              "      <td>...</td>\n",
              "      <td>...</td>\n",
              "    </tr>\n",
              "    <tr>\n",
              "      <th>1166910</th>\n",
              "      <td>2</td>\n",
              "      <td>2</td>\n",
              "      <td>-73.955032</td>\n",
              "      <td>40.777328</td>\n",
              "      <td>-74.006203</td>\n",
              "      <td>40.749424</td>\n",
              "      <td>N</td>\n",
              "      <td>1281</td>\n",
              "      <td>5.310383</td>\n",
              "      <td>2016</td>\n",
              "      <td>3</td>\n",
              "      <td>25</td>\n",
              "      <td>7</td>\n",
              "      <td>11</td>\n",
              "      <td>49</td>\n",
              "      <td>Rush</td>\n",
              "    </tr>\n",
              "    <tr>\n",
              "      <th>1166911</th>\n",
              "      <td>1</td>\n",
              "      <td>1</td>\n",
              "      <td>-73.973618</td>\n",
              "      <td>40.763920</td>\n",
              "      <td>-73.983849</td>\n",
              "      <td>40.749874</td>\n",
              "      <td>N</td>\n",
              "      <td>833</td>\n",
              "      <td>1.783777</td>\n",
              "      <td>2016</td>\n",
              "      <td>2</td>\n",
              "      <td>16</td>\n",
              "      <td>18</td>\n",
              "      <td>1</td>\n",
              "      <td>45</td>\n",
              "      <td>Rush</td>\n",
              "    </tr>\n",
              "    <tr>\n",
              "      <th>1166912</th>\n",
              "      <td>2</td>\n",
              "      <td>1</td>\n",
              "      <td>-74.006195</td>\n",
              "      <td>40.734283</td>\n",
              "      <td>-73.949608</td>\n",
              "      <td>40.785282</td>\n",
              "      <td>N</td>\n",
              "      <td>1285</td>\n",
              "      <td>7.407646</td>\n",
              "      <td>2016</td>\n",
              "      <td>1</td>\n",
              "      <td>26</td>\n",
              "      <td>19</td>\n",
              "      <td>22</td>\n",
              "      <td>29</td>\n",
              "      <td>Non-rush</td>\n",
              "    </tr>\n",
              "    <tr>\n",
              "      <th>1166913</th>\n",
              "      <td>1</td>\n",
              "      <td>1</td>\n",
              "      <td>-73.962341</td>\n",
              "      <td>40.767323</td>\n",
              "      <td>-73.969757</td>\n",
              "      <td>40.768669</td>\n",
              "      <td>N</td>\n",
              "      <td>389</td>\n",
              "      <td>0.642215</td>\n",
              "      <td>2016</td>\n",
              "      <td>1</td>\n",
              "      <td>19</td>\n",
              "      <td>11</td>\n",
              "      <td>53</td>\n",
              "      <td>47</td>\n",
              "      <td>Rush</td>\n",
              "    </tr>\n",
              "    <tr>\n",
              "      <th>1166914</th>\n",
              "      <td>2</td>\n",
              "      <td>1</td>\n",
              "      <td>-73.874649</td>\n",
              "      <td>40.774071</td>\n",
              "      <td>-74.004242</td>\n",
              "      <td>40.746899</td>\n",
              "      <td>N</td>\n",
              "      <td>1570</td>\n",
              "      <td>11.325311</td>\n",
              "      <td>2016</td>\n",
              "      <td>2</td>\n",
              "      <td>10</td>\n",
              "      <td>22</td>\n",
              "      <td>39</td>\n",
              "      <td>31</td>\n",
              "      <td>Non-rush</td>\n",
              "    </tr>\n",
              "  </tbody>\n",
              "</table>\n",
              "<p>1166915 rows × 16 columns</p>\n",
              "</div>"
            ],
            "text/plain": [
              "         vendor_id  passenger_count  pickup_longitude  pickup_latitude  \\\n",
              "0                2                1        -73.862762        40.768822   \n",
              "1                2                1        -73.958038        40.783237   \n",
              "2                2                1        -73.969460        40.785519   \n",
              "3                1                1        -73.981743        40.736549   \n",
              "4                2                1        -73.977913        40.752609   \n",
              "...            ...              ...               ...              ...   \n",
              "1166910          2                2        -73.955032        40.777328   \n",
              "1166911          1                1        -73.973618        40.763920   \n",
              "1166912          2                1        -74.006195        40.734283   \n",
              "1166913          1                1        -73.962341        40.767323   \n",
              "1166914          2                1        -73.874649        40.774071   \n",
              "\n",
              "         dropoff_longitude  dropoff_latitude store_and_fwd_flag  \\\n",
              "0               -73.891701         40.746689                  N   \n",
              "1               -73.975510         40.760853                  N   \n",
              "2               -73.989243         40.771748                  N   \n",
              "3               -73.998352         40.726440                  N   \n",
              "4               -73.975647         40.733139                  N   \n",
              "...                    ...               ...                ...   \n",
              "1166910         -74.006203         40.749424                  N   \n",
              "1166911         -73.983849         40.749874                  N   \n",
              "1166912         -73.949608         40.785282                  N   \n",
              "1166913         -73.969757         40.768669                  N   \n",
              "1166914         -74.004242         40.746899                  N   \n",
              "\n",
              "         trip_duration  haversine_distance  pickup_datetime_year  \\\n",
              "0                 1133            3.463778                  2016   \n",
              "1                  887            2.891365                  2016   \n",
              "2                  686            2.262636                  2016   \n",
              "3                  818            1.795030                  2016   \n",
              "4                  951            2.173389                  2016   \n",
              "...                ...                 ...                   ...   \n",
              "1166910           1281            5.310383                  2016   \n",
              "1166911            833            1.783777                  2016   \n",
              "1166912           1285            7.407646                  2016   \n",
              "1166913            389            0.642215                  2016   \n",
              "1166914           1570           11.325311                  2016   \n",
              "\n",
              "         pickup_datetime_month  pickup_datetime_day  pickup_datetime_hour  \\\n",
              "0                            6                   29                    18   \n",
              "1                            4                   25                    13   \n",
              "2                            5                    7                    12   \n",
              "3                            5                   14                    18   \n",
              "4                            4                   10                    22   \n",
              "...                        ...                  ...                   ...   \n",
              "1166910                      3                   25                     7   \n",
              "1166911                      2                   16                    18   \n",
              "1166912                      1                   26                    19   \n",
              "1166913                      1                   19                    11   \n",
              "1166914                      2                   10                    22   \n",
              "\n",
              "         pickup_datetime_minute  pickup_datetime_second      rush  \n",
              "0                            21                       2      Rush  \n",
              "1                             3                      26      Rush  \n",
              "2                            36                       9      Rush  \n",
              "3                            44                      17      Rush  \n",
              "4                            51                      25  Non-rush  \n",
              "...                         ...                     ...       ...  \n",
              "1166910                      11                      49      Rush  \n",
              "1166911                       1                      45      Rush  \n",
              "1166912                      22                      29  Non-rush  \n",
              "1166913                      53                      47      Rush  \n",
              "1166914                      39                      31  Non-rush  \n",
              "\n",
              "[1166915 rows x 16 columns]"
            ]
          },
          "execution_count": 41,
          "metadata": {},
          "output_type": "execute_result"
        }
      ],
      "source": [
        "df_train"
      ]
    },
    {
      "cell_type": "code",
      "execution_count": 42,
      "metadata": {
        "colab": {
          "base_uri": "https://localhost:8080/",
          "height": 80
        },
        "id": "HL7MIufiqT4n",
        "outputId": "97dd875f-ee77-4466-cc94-ca701d4b0296"
      },
      "outputs": [
        {
          "data": {
            "text/html": [
              "<div>\n",
              "<style scoped>\n",
              "    .dataframe tbody tr th:only-of-type {\n",
              "        vertical-align: middle;\n",
              "    }\n",
              "\n",
              "    .dataframe tbody tr th {\n",
              "        vertical-align: top;\n",
              "    }\n",
              "\n",
              "    .dataframe thead th {\n",
              "        text-align: right;\n",
              "    }\n",
              "</style>\n",
              "<table border=\"1\" class=\"dataframe\">\n",
              "  <thead>\n",
              "    <tr style=\"text-align: right;\">\n",
              "      <th></th>\n",
              "      <th># rows</th>\n",
              "      <th># columns</th>\n",
              "    </tr>\n",
              "  </thead>\n",
              "  <tbody>\n",
              "    <tr>\n",
              "      <th>0</th>\n",
              "      <td>1166915</td>\n",
              "      <td>16</td>\n",
              "    </tr>\n",
              "  </tbody>\n",
              "</table>\n",
              "</div>"
            ],
            "text/plain": [
              "    # rows  # columns\n",
              "0  1166915         16"
            ]
          },
          "execution_count": 42,
          "metadata": {},
          "output_type": "execute_result"
        }
      ],
      "source": [
        "pd.DataFrame([[df_train.shape[0], df_train.shape[1]]], columns=['# rows', '# columns'])"
      ]
    },
    {
      "cell_type": "code",
      "execution_count": 43,
      "metadata": {
        "colab": {
          "base_uri": "https://localhost:8080/",
          "height": 80
        },
        "id": "zJ5rsm9lqYA4",
        "outputId": "947d115f-d82d-4329-8d44-7d81ded49531"
      },
      "outputs": [
        {
          "data": {
            "text/html": [
              "<div>\n",
              "<style scoped>\n",
              "    .dataframe tbody tr th:only-of-type {\n",
              "        vertical-align: middle;\n",
              "    }\n",
              "\n",
              "    .dataframe tbody tr th {\n",
              "        vertical-align: top;\n",
              "    }\n",
              "\n",
              "    .dataframe thead th {\n",
              "        text-align: right;\n",
              "    }\n",
              "</style>\n",
              "<table border=\"1\" class=\"dataframe\">\n",
              "  <thead>\n",
              "    <tr style=\"text-align: right;\">\n",
              "      <th></th>\n",
              "      <th># rows</th>\n",
              "      <th># columns</th>\n",
              "    </tr>\n",
              "  </thead>\n",
              "  <tbody>\n",
              "    <tr>\n",
              "      <th>0</th>\n",
              "      <td>291729</td>\n",
              "      <td>16</td>\n",
              "    </tr>\n",
              "  </tbody>\n",
              "</table>\n",
              "</div>"
            ],
            "text/plain": [
              "   # rows  # columns\n",
              "0  291729         16"
            ]
          },
          "execution_count": 43,
          "metadata": {},
          "output_type": "execute_result"
        }
      ],
      "source": [
        "pd.DataFrame([[df_val.shape[0], df_val.shape[1]]], columns=['# rows', '# columns'])"
      ]
    },
    {
      "cell_type": "code",
      "execution_count": 44,
      "metadata": {
        "colab": {
          "base_uri": "https://localhost:8080/",
          "height": 80
        },
        "id": "umHD-JafqeTH",
        "outputId": "9b07584b-bcba-4ca2-a24b-4da6093b8d77"
      },
      "outputs": [
        {
          "data": {
            "text/html": [
              "<div>\n",
              "<style scoped>\n",
              "    .dataframe tbody tr th:only-of-type {\n",
              "        vertical-align: middle;\n",
              "    }\n",
              "\n",
              "    .dataframe tbody tr th {\n",
              "        vertical-align: top;\n",
              "    }\n",
              "\n",
              "    .dataframe thead th {\n",
              "        text-align: right;\n",
              "    }\n",
              "</style>\n",
              "<table border=\"1\" class=\"dataframe\">\n",
              "  <thead>\n",
              "    <tr style=\"text-align: right;\">\n",
              "      <th></th>\n",
              "      <th># rows</th>\n",
              "      <th># columns</th>\n",
              "    </tr>\n",
              "  </thead>\n",
              "  <tbody>\n",
              "    <tr>\n",
              "      <th>0</th>\n",
              "      <td>625134</td>\n",
              "      <td>15</td>\n",
              "    </tr>\n",
              "  </tbody>\n",
              "</table>\n",
              "</div>"
            ],
            "text/plain": [
              "   # rows  # columns\n",
              "0  625134         15"
            ]
          },
          "execution_count": 44,
          "metadata": {},
          "output_type": "execute_result"
        }
      ],
      "source": [
        "pd.DataFrame([[df_test.shape[0], df_test.shape[1]]], columns=['# rows', '# columns'])"
      ]
    },
    {
      "cell_type": "code",
      "execution_count": 45,
      "metadata": {
        "colab": {
          "base_uri": "https://localhost:8080/",
          "height": 143
        },
        "id": "YD2CHMFBR_ug",
        "outputId": "f41089db-e174-44f5-d117-c7179455dbc8"
      },
      "outputs": [
        {
          "data": {
            "text/html": [
              "<div>\n",
              "<style scoped>\n",
              "    .dataframe tbody tr th:only-of-type {\n",
              "        vertical-align: middle;\n",
              "    }\n",
              "\n",
              "    .dataframe tbody tr th {\n",
              "        vertical-align: top;\n",
              "    }\n",
              "\n",
              "    .dataframe thead th {\n",
              "        text-align: right;\n",
              "    }\n",
              "</style>\n",
              "<table border=\"1\" class=\"dataframe\">\n",
              "  <thead>\n",
              "    <tr style=\"text-align: right;\">\n",
              "      <th></th>\n",
              "      <th>dtype</th>\n",
              "    </tr>\n",
              "  </thead>\n",
              "  <tbody>\n",
              "    <tr>\n",
              "      <th>0</th>\n",
              "      <td>int64</td>\n",
              "    </tr>\n",
              "    <tr>\n",
              "      <th>1</th>\n",
              "      <td>float64</td>\n",
              "    </tr>\n",
              "    <tr>\n",
              "      <th>2</th>\n",
              "      <td>object</td>\n",
              "    </tr>\n",
              "    <tr>\n",
              "      <th>3</th>\n",
              "      <td>int32</td>\n",
              "    </tr>\n",
              "  </tbody>\n",
              "</table>\n",
              "</div>"
            ],
            "text/plain": [
              "     dtype\n",
              "0    int64\n",
              "1  float64\n",
              "2   object\n",
              "3    int32"
            ]
          },
          "execution_count": 45,
          "metadata": {},
          "output_type": "execute_result"
        }
      ],
      "source": [
        "df = pd.concat([df_train, df_val, df_test], sort=False)\n",
        "pd.DataFrame(df.dtypes.unique(), columns=['dtype'])"
      ]
    },
    {
      "cell_type": "code",
      "execution_count": 46,
      "metadata": {},
      "outputs": [],
      "source": [
        "def cat_var_checker(df, dtype='object'):\n",
        "    \"\"\"\n",
        "    The categorical variable checker\n",
        "    \"\"\"\n",
        "    \n",
        "    # Get the dataframe of categorical variables and their number of unique value\n",
        "    df_cat = pd.DataFrame([[var, df[var].nunique(dropna=False)]\n",
        "                           # If the data type is dtype\n",
        "                           for var in df.columns if df[var].dtype == dtype],\n",
        "                          columns=['var', 'nunique'])\n",
        "    \n",
        "    # Sort df_cat in accending order of the number of unique value\n",
        "    df_cat = df_cat.sort_values(by='nunique', ascending=False).reset_index(drop=True)\n",
        "    \n",
        "    return df_cat"
      ]
    },
    {
      "cell_type": "code",
      "execution_count": 47,
      "metadata": {
        "colab": {
          "base_uri": "https://localhost:8080/",
          "height": 125
        },
        "id": "NmOveXzcSIxj",
        "outputId": "e4e69bc4-0d5d-4ce4-fc0e-64c5958a117f"
      },
      "outputs": [
        {
          "data": {
            "text/html": [
              "<div>\n",
              "<style scoped>\n",
              "    .dataframe tbody tr th:only-of-type {\n",
              "        vertical-align: middle;\n",
              "    }\n",
              "\n",
              "    .dataframe tbody tr th {\n",
              "        vertical-align: top;\n",
              "    }\n",
              "\n",
              "    .dataframe thead th {\n",
              "        text-align: right;\n",
              "    }\n",
              "</style>\n",
              "<table border=\"1\" class=\"dataframe\">\n",
              "  <thead>\n",
              "    <tr style=\"text-align: right;\">\n",
              "      <th></th>\n",
              "      <th>var</th>\n",
              "      <th>nunique</th>\n",
              "    </tr>\n",
              "  </thead>\n",
              "  <tbody>\n",
              "    <tr>\n",
              "      <th>0</th>\n",
              "      <td>store_and_fwd_flag</td>\n",
              "      <td>2</td>\n",
              "    </tr>\n",
              "    <tr>\n",
              "      <th>1</th>\n",
              "      <td>rush</td>\n",
              "      <td>2</td>\n",
              "    </tr>\n",
              "  </tbody>\n",
              "</table>\n",
              "</div>"
            ],
            "text/plain": [
              "                  var  nunique\n",
              "0  store_and_fwd_flag        2\n",
              "1                rush        2"
            ]
          },
          "execution_count": 47,
          "metadata": {},
          "output_type": "execute_result"
        }
      ],
      "source": [
        "# Call cat_var_checker on df\n",
        "df_cat = cat_var_checker(df)\n",
        "df_cat"
      ]
    },
    {
      "cell_type": "code",
      "execution_count": 48,
      "metadata": {
        "colab": {
          "base_uri": "https://localhost:8080/",
          "height": 243
        },
        "id": "s5-1g7yQSUXz",
        "outputId": "7f53a0a9-05d7-483d-d697-698e3b0dd015"
      },
      "outputs": [
        {
          "data": {
            "text/html": [
              "<div>\n",
              "<style scoped>\n",
              "    .dataframe tbody tr th:only-of-type {\n",
              "        vertical-align: middle;\n",
              "    }\n",
              "\n",
              "    .dataframe tbody tr th {\n",
              "        vertical-align: top;\n",
              "    }\n",
              "\n",
              "    .dataframe thead th {\n",
              "        text-align: right;\n",
              "    }\n",
              "</style>\n",
              "<table border=\"1\" class=\"dataframe\">\n",
              "  <thead>\n",
              "    <tr style=\"text-align: right;\">\n",
              "      <th></th>\n",
              "      <th>vendor_id</th>\n",
              "      <th>passenger_count</th>\n",
              "      <th>pickup_longitude</th>\n",
              "      <th>pickup_latitude</th>\n",
              "      <th>dropoff_longitude</th>\n",
              "      <th>dropoff_latitude</th>\n",
              "      <th>trip_duration</th>\n",
              "      <th>haversine_distance</th>\n",
              "      <th>pickup_datetime_year</th>\n",
              "      <th>pickup_datetime_month</th>\n",
              "      <th>pickup_datetime_day</th>\n",
              "      <th>pickup_datetime_hour</th>\n",
              "      <th>pickup_datetime_minute</th>\n",
              "      <th>pickup_datetime_second</th>\n",
              "      <th>rush_Non-rush</th>\n",
              "      <th>rush_Rush</th>\n",
              "      <th>store_and_fwd_flag_N</th>\n",
              "      <th>store_and_fwd_flag_Y</th>\n",
              "    </tr>\n",
              "  </thead>\n",
              "  <tbody>\n",
              "    <tr>\n",
              "      <th>0</th>\n",
              "      <td>2</td>\n",
              "      <td>1</td>\n",
              "      <td>-73.862762</td>\n",
              "      <td>40.768822</td>\n",
              "      <td>-73.891701</td>\n",
              "      <td>40.746689</td>\n",
              "      <td>1133.0</td>\n",
              "      <td>3.463778</td>\n",
              "      <td>2016</td>\n",
              "      <td>6</td>\n",
              "      <td>29</td>\n",
              "      <td>18</td>\n",
              "      <td>21</td>\n",
              "      <td>2</td>\n",
              "      <td>False</td>\n",
              "      <td>True</td>\n",
              "      <td>True</td>\n",
              "      <td>False</td>\n",
              "    </tr>\n",
              "    <tr>\n",
              "      <th>1</th>\n",
              "      <td>2</td>\n",
              "      <td>1</td>\n",
              "      <td>-73.958038</td>\n",
              "      <td>40.783237</td>\n",
              "      <td>-73.975510</td>\n",
              "      <td>40.760853</td>\n",
              "      <td>887.0</td>\n",
              "      <td>2.891365</td>\n",
              "      <td>2016</td>\n",
              "      <td>4</td>\n",
              "      <td>25</td>\n",
              "      <td>13</td>\n",
              "      <td>3</td>\n",
              "      <td>26</td>\n",
              "      <td>False</td>\n",
              "      <td>True</td>\n",
              "      <td>True</td>\n",
              "      <td>False</td>\n",
              "    </tr>\n",
              "    <tr>\n",
              "      <th>2</th>\n",
              "      <td>2</td>\n",
              "      <td>1</td>\n",
              "      <td>-73.969460</td>\n",
              "      <td>40.785519</td>\n",
              "      <td>-73.989243</td>\n",
              "      <td>40.771748</td>\n",
              "      <td>686.0</td>\n",
              "      <td>2.262636</td>\n",
              "      <td>2016</td>\n",
              "      <td>5</td>\n",
              "      <td>7</td>\n",
              "      <td>12</td>\n",
              "      <td>36</td>\n",
              "      <td>9</td>\n",
              "      <td>False</td>\n",
              "      <td>True</td>\n",
              "      <td>True</td>\n",
              "      <td>False</td>\n",
              "    </tr>\n",
              "    <tr>\n",
              "      <th>3</th>\n",
              "      <td>1</td>\n",
              "      <td>1</td>\n",
              "      <td>-73.981743</td>\n",
              "      <td>40.736549</td>\n",
              "      <td>-73.998352</td>\n",
              "      <td>40.726440</td>\n",
              "      <td>818.0</td>\n",
              "      <td>1.795030</td>\n",
              "      <td>2016</td>\n",
              "      <td>5</td>\n",
              "      <td>14</td>\n",
              "      <td>18</td>\n",
              "      <td>44</td>\n",
              "      <td>17</td>\n",
              "      <td>False</td>\n",
              "      <td>True</td>\n",
              "      <td>True</td>\n",
              "      <td>False</td>\n",
              "    </tr>\n",
              "    <tr>\n",
              "      <th>4</th>\n",
              "      <td>2</td>\n",
              "      <td>1</td>\n",
              "      <td>-73.977913</td>\n",
              "      <td>40.752609</td>\n",
              "      <td>-73.975647</td>\n",
              "      <td>40.733139</td>\n",
              "      <td>951.0</td>\n",
              "      <td>2.173389</td>\n",
              "      <td>2016</td>\n",
              "      <td>4</td>\n",
              "      <td>10</td>\n",
              "      <td>22</td>\n",
              "      <td>51</td>\n",
              "      <td>25</td>\n",
              "      <td>True</td>\n",
              "      <td>False</td>\n",
              "      <td>True</td>\n",
              "      <td>False</td>\n",
              "    </tr>\n",
              "  </tbody>\n",
              "</table>\n",
              "</div>"
            ],
            "text/plain": [
              "   vendor_id  passenger_count  pickup_longitude  pickup_latitude  \\\n",
              "0          2                1        -73.862762        40.768822   \n",
              "1          2                1        -73.958038        40.783237   \n",
              "2          2                1        -73.969460        40.785519   \n",
              "3          1                1        -73.981743        40.736549   \n",
              "4          2                1        -73.977913        40.752609   \n",
              "\n",
              "   dropoff_longitude  dropoff_latitude  trip_duration  haversine_distance  \\\n",
              "0         -73.891701         40.746689         1133.0            3.463778   \n",
              "1         -73.975510         40.760853          887.0            2.891365   \n",
              "2         -73.989243         40.771748          686.0            2.262636   \n",
              "3         -73.998352         40.726440          818.0            1.795030   \n",
              "4         -73.975647         40.733139          951.0            2.173389   \n",
              "\n",
              "   pickup_datetime_year  pickup_datetime_month  pickup_datetime_day  \\\n",
              "0                  2016                      6                   29   \n",
              "1                  2016                      4                   25   \n",
              "2                  2016                      5                    7   \n",
              "3                  2016                      5                   14   \n",
              "4                  2016                      4                   10   \n",
              "\n",
              "   pickup_datetime_hour  pickup_datetime_minute  pickup_datetime_second  \\\n",
              "0                    18                      21                       2   \n",
              "1                    13                       3                      26   \n",
              "2                    12                      36                       9   \n",
              "3                    18                      44                      17   \n",
              "4                    22                      51                      25   \n",
              "\n",
              "   rush_Non-rush  rush_Rush  store_and_fwd_flag_N  store_and_fwd_flag_Y  \n",
              "0          False       True                  True                 False  \n",
              "1          False       True                  True                 False  \n",
              "2          False       True                  True                 False  \n",
              "3          False       True                  True                 False  \n",
              "4           True      False                  True                 False  "
            ]
          },
          "execution_count": 48,
          "metadata": {},
          "output_type": "execute_result"
        }
      ],
      "source": [
        "# One-hot-encode the categorical features in the combined data\n",
        "df = pd.get_dummies(df, columns=np.setdiff1d(df_cat['var'], [target]))\n",
        "\n",
        "# Print the first 5 rows of df\n",
        "df.head()"
      ]
    },
    {
      "cell_type": "code",
      "execution_count": 49,
      "metadata": {
        "id": "STuVBX_FSj61"
      },
      "outputs": [],
      "source": [
        "# Separating the training data\n",
        "df_train = df.iloc[:df_train.shape[0], :]\n",
        "\n",
        "# Separating the validation data\n",
        "df_val = df.iloc[df_train.shape[0]:df_train.shape[0] + df_val.shape[0], :]\n",
        "\n",
        "# Separating the test data\n",
        "df_test = df.iloc[df_train.shape[0] + df_val.shape[0]:, :]"
      ]
    },
    {
      "cell_type": "code",
      "execution_count": 50,
      "metadata": {
        "colab": {
          "base_uri": "https://localhost:8080/"
        },
        "id": "AkiI5_HYTGEh",
        "outputId": "a3147560-ae48-4741-ddb4-e707a4017ff8"
      },
      "outputs": [
        {
          "name": "stdout",
          "output_type": "stream",
          "text": [
            "Test set shape:\n",
            "   # rows  # columns\n",
            "0  625134         18\n",
            "Validation set shape:\n",
            "   # rows  # columns\n",
            "0  291729         18\n",
            "Training set shape:\n",
            "    # rows  # columns\n",
            "0  1166915         18\n"
          ]
        }
      ],
      "source": [
        "# Print DataFrame shapes\n",
        "print(\"Test set shape:\")\n",
        "print(pd.DataFrame([[df_test.shape[0], df_test.shape[1]]], columns=['# rows', '# columns']))\n",
        "\n",
        "print(\"Validation set shape:\")\n",
        "print(pd.DataFrame([[df_val.shape[0], df_val.shape[1]]], columns=['# rows', '# columns']))\n",
        "\n",
        "print(\"Training set shape:\")\n",
        "print(pd.DataFrame([[df_train.shape[0], df_train.shape[1]]], columns=['# rows', '# columns']))"
      ]
    },
    {
      "cell_type": "code",
      "execution_count": 51,
      "metadata": {
        "id": "0xVOCNzyTNk-"
      },
      "outputs": [],
      "source": [
        "# Get the feature matrix\n",
        "X_train = df_train[np.setdiff1d(df_train.columns, [target])].values\n",
        "X_val = df_val[np.setdiff1d(df_val.columns, [target])].values\n",
        "X_test = df_test[np.setdiff1d(df_test.columns, [target])].values\n",
        "\n",
        "# Get the target vector\n",
        "y_train = df_train[target].values\n",
        "y_val = df_val[target].values\n",
        "y_test = df_test[target].values"
      ]
    },
    {
      "cell_type": "code",
      "execution_count": 52,
      "metadata": {
        "id": "ibWmmo5kTWId"
      },
      "outputs": [],
      "source": [
        "from sklearn.preprocessing import StandardScaler\n",
        "ss = StandardScaler()"
      ]
    },
    {
      "cell_type": "code",
      "execution_count": 53,
      "metadata": {
        "id": "5WLWl4ukTZBM"
      },
      "outputs": [],
      "source": [
        "# Standardize the training data\n",
        "X_train = ss.fit_transform(X_train)\n",
        "\n",
        "# Standardize the validation data\n",
        "X_val = ss.transform(X_val)\n",
        "\n",
        "# Standardize the test data\n",
        "X_test = ss.transform(X_test)"
      ]
    },
    {
      "cell_type": "code",
      "execution_count": 54,
      "metadata": {
        "id": "88rykt_pTc2j"
      },
      "outputs": [],
      "source": [
        "# Standardize the training data\n",
        "y_train = ss.fit_transform(y_train.reshape(-1, 1)).reshape(-1)\n",
        "\n",
        "# Standardize the validation data\n",
        "y_val = ss.transform(y_val.reshape(-1, 1)).reshape(-1)\n",
        "\n",
        "# Standardize the test data\n",
        "y_test = ss.transform(y_test.reshape(-1, 1)).reshape(-1)"
      ]
    },
    {
      "cell_type": "markdown",
      "metadata": {
        "id": "Of56ObPGe31x"
      },
      "source": [
        "# Hyperparameter Tuning"
      ]
    },
    {
      "cell_type": "code",
      "execution_count": 55,
      "metadata": {},
      "outputs": [],
      "source": [
        "from sklearn.model_selection import PredefinedSplit\n",
        "\n",
        "def get_train_val_ps(X_train, y_train, X_val, y_val):\n",
        "    \"\"\"\n",
        "    Get the:\n",
        "    feature matrix and target velctor in the combined training and validation data\n",
        "    target vector in the combined training and validation data\n",
        "    PredefinedSplit    \n",
        "    \"\"\"  \n",
        "\n",
        "    # Combine the feature matrix in the training and validation data\n",
        "    X_train_val = np.vstack((X_train, X_val))\n",
        "\n",
        "    # Combine the target vector in the training and validation data\n",
        "    y_train_val = np.vstack((y_train.reshape(-1, 1), y_val.reshape(-1, 1))).reshape(-1)\n",
        "\n",
        "    # Get the indices of training and validation data\n",
        "    train_val_idxs = np.append(np.full(X_train.shape[0], -1), np.full(X_val.shape[0], 0))\n",
        "\n",
        "    # The PredefinedSplit\n",
        "    ps = PredefinedSplit(train_val_idxs)\n",
        "\n",
        "    return X_train_val, y_train_val, ps"
      ]
    },
    {
      "cell_type": "code",
      "execution_count": 62,
      "metadata": {
        "colab": {
          "base_uri": "https://localhost:8080/",
          "height": 80
        },
        "id": "sdwV3CWa285j",
        "outputId": "ffbe14da-2677-415d-c2d3-1c48ae512a5f"
      },
      "outputs": [
        {
          "name": "stdout",
          "output_type": "stream",
          "text": [
            "[LightGBM] [Info] Auto-choosing row-wise multi-threading, the overhead of testing was 0.042419 seconds.\n",
            "You can set `force_row_wise=true` to remove the overhead.\n",
            "And if memory is not enough, you can set `force_col_wise=true`.\n",
            "[LightGBM] [Info] Total Bins 1485\n",
            "[LightGBM] [Info] Number of data points in the train set: 1458644, number of used features: 16\n",
            "[LightGBM] [Info] Start training from score 0.000039\n",
            "[LightGBM] [Warning] No further splits with positive gain, best gain: -inf\n",
            "[LightGBM] [Warning] No further splits with positive gain, best gain: -inf\n",
            "[LightGBM] [Warning] No further splits with positive gain, best gain: -inf\n",
            "[LightGBM] [Warning] No further splits with positive gain, best gain: -inf\n",
            "[LightGBM] [Warning] No further splits with positive gain, best gain: -inf\n",
            "[LightGBM] [Warning] No further splits with positive gain, best gain: -inf\n",
            "[LightGBM] [Warning] No further splits with positive gain, best gain: -inf\n",
            "[LightGBM] [Warning] No further splits with positive gain, best gain: -inf\n",
            "[LightGBM] [Warning] No further splits with positive gain, best gain: -inf\n",
            "[LightGBM] [Warning] No further splits with positive gain, best gain: -inf\n",
            "[LightGBM] [Warning] No further splits with positive gain, best gain: -inf\n",
            "[LightGBM] [Warning] No further splits with positive gain, best gain: -inf\n",
            "[LightGBM] [Warning] No further splits with positive gain, best gain: -inf\n",
            "[LightGBM] [Warning] No further splits with positive gain, best gain: -inf\n",
            "[LightGBM] [Warning] No further splits with positive gain, best gain: -inf\n",
            "[LightGBM] [Warning] No further splits with positive gain, best gain: -inf\n",
            "[LightGBM] [Warning] No further splits with positive gain, best gain: -inf\n",
            "[LightGBM] [Warning] No further splits with positive gain, best gain: -inf\n",
            "[LightGBM] [Warning] No further splits with positive gain, best gain: -inf\n",
            "[LightGBM] [Warning] No further splits with positive gain, best gain: -inf\n",
            "[LightGBM] [Warning] No further splits with positive gain, best gain: -inf\n",
            "[LightGBM] [Warning] No further splits with positive gain, best gain: -inf\n",
            "[LightGBM] [Warning] No further splits with positive gain, best gain: -inf\n",
            "[LightGBM] [Warning] No further splits with positive gain, best gain: -inf\n",
            "[LightGBM] [Warning] No further splits with positive gain, best gain: -inf\n",
            "[LightGBM] [Warning] No further splits with positive gain, best gain: -inf\n",
            "[LightGBM] [Warning] No further splits with positive gain, best gain: -inf\n",
            "[LightGBM] [Warning] No further splits with positive gain, best gain: -inf\n",
            "[LightGBM] [Warning] No further splits with positive gain, best gain: -inf\n",
            "[LightGBM] [Warning] No further splits with positive gain, best gain: -inf\n",
            "[LightGBM] [Warning] No further splits with positive gain, best gain: -inf\n",
            "[LightGBM] [Warning] No further splits with positive gain, best gain: -inf\n",
            "[LightGBM] [Warning] No further splits with positive gain, best gain: -inf\n",
            "[LightGBM] [Warning] No further splits with positive gain, best gain: -inf\n",
            "[LightGBM] [Warning] No further splits with positive gain, best gain: -inf\n",
            "[LightGBM] [Warning] No further splits with positive gain, best gain: -inf\n",
            "[LightGBM] [Warning] No further splits with positive gain, best gain: -inf\n",
            "[LightGBM] [Warning] No further splits with positive gain, best gain: -inf\n",
            "[LightGBM] [Warning] No further splits with positive gain, best gain: -inf\n",
            "[LightGBM] [Warning] No further splits with positive gain, best gain: -inf\n",
            "[LightGBM] [Warning] No further splits with positive gain, best gain: -inf\n",
            "[LightGBM] [Warning] No further splits with positive gain, best gain: -inf\n",
            "[LightGBM] [Warning] No further splits with positive gain, best gain: -inf\n",
            "[LightGBM] [Warning] No further splits with positive gain, best gain: -inf\n",
            "[LightGBM] [Warning] No further splits with positive gain, best gain: -inf\n",
            "[LightGBM] [Warning] No further splits with positive gain, best gain: -inf\n",
            "[LightGBM] [Warning] No further splits with positive gain, best gain: -inf\n",
            "[LightGBM] [Warning] No further splits with positive gain, best gain: -inf\n",
            "[LightGBM] [Warning] No further splits with positive gain, best gain: -inf\n",
            "[LightGBM] [Warning] No further splits with positive gain, best gain: -inf\n"
          ]
        },
        {
          "data": {
            "text/html": [
              "<div>\n",
              "<style scoped>\n",
              "    .dataframe tbody tr th:only-of-type {\n",
              "        vertical-align: middle;\n",
              "    }\n",
              "\n",
              "    .dataframe tbody tr th {\n",
              "        vertical-align: top;\n",
              "    }\n",
              "\n",
              "    .dataframe thead th {\n",
              "        text-align: right;\n",
              "    }\n",
              "</style>\n",
              "<table border=\"1\" class=\"dataframe\">\n",
              "  <thead>\n",
              "    <tr style=\"text-align: right;\">\n",
              "      <th></th>\n",
              "      <th>best_score</th>\n",
              "      <th>best_param</th>\n",
              "      <th>best_estimator</th>\n",
              "    </tr>\n",
              "  </thead>\n",
              "  <tbody>\n",
              "    <tr>\n",
              "      <th>0</th>\n",
              "      <td>0.128918</td>\n",
              "      <td>{'model__eta0': 0.0001, 'model__alpha': 1e-05}</td>\n",
              "      <td>(SGDRegressor(alpha=1e-05, eta0=0.0001, random...</td>\n",
              "    </tr>\n",
              "    <tr>\n",
              "      <th>1</th>\n",
              "      <td>0.124589</td>\n",
              "      <td>{'model__min_samples_leaf': 5, 'model__max_ite...</td>\n",
              "      <td>(HistGradientBoostingRegressor(max_depth=3, mi...</td>\n",
              "    </tr>\n",
              "    <tr>\n",
              "      <th>2</th>\n",
              "      <td>0.124352</td>\n",
              "      <td>{'model__num_leaves': 31, 'model__n_estimators...</td>\n",
              "      <td>(LGBMRegressor(max_depth=3, n_estimators=50, r...</td>\n",
              "    </tr>\n",
              "  </tbody>\n",
              "</table>\n",
              "</div>"
            ],
            "text/plain": [
              "   best_score                                         best_param  \\\n",
              "0    0.128918     {'model__eta0': 0.0001, 'model__alpha': 1e-05}   \n",
              "1    0.124589  {'model__min_samples_leaf': 5, 'model__max_ite...   \n",
              "2    0.124352  {'model__num_leaves': 31, 'model__n_estimators...   \n",
              "\n",
              "                                      best_estimator  \n",
              "0  (SGDRegressor(alpha=1e-05, eta0=0.0001, random...  \n",
              "1  (HistGradientBoostingRegressor(max_depth=3, mi...  \n",
              "2  (LGBMRegressor(max_depth=3, n_estimators=50, r...  "
            ]
          },
          "execution_count": 62,
          "metadata": {},
          "output_type": "execute_result"
        }
      ],
      "source": [
        "# Implement me\n",
        "from sklearn.linear_model import SGDRegressor\n",
        "from sklearn.model_selection import RandomizedSearchCV\n",
        "import os\n",
        "from sklearn.ensemble import HistGradientBoostingRegressor  \n",
        "from sklearn.metrics import make_scorer\n",
        "import lightgbm as lgb\n",
        "\n",
        "\n",
        "\n",
        "abspath_curr='C:\\\\Users\\\\SRINIVAS\\\\Downloads\\\\ML_ASSIGN_TERMS\\\\NYC_TAXI_TRIP_DURATION'\n",
        "models = {'sgd': SGDRegressor(random_state=random_seed),\n",
        "          'gbr': HistGradientBoostingRegressor(random_state=random_seed),\n",
        "          'lgbm': lgb.LGBMRegressor(random_state=random_seed)}\n",
        "\n",
        "from sklearn.pipeline import Pipeline\n",
        "\n",
        "pipes = {}\n",
        "\n",
        "for acronym, model in models.items():\n",
        "    pipes[acronym] = Pipeline([('model', model)])\n",
        "\n",
        "X_train_val, y_train_val, ps = get_train_val_ps(X_train, y_train, X_val, y_val)\n",
        "\n",
        "param_grids = {}\n",
        "\n",
        "eta_grid = [0.00001, 0.0001, 0.001, 0.01, 0.1]\n",
        "alpha_grid = [0.00001, 0.0001, 0.001, 0.01, 0.1, 1, 10, 100]\n",
        "\n",
        "# Update param_grids\n",
        "param_grids['sgd'] = [{'model__eta0': eta_grid,\n",
        "                       'model__alpha': alpha_grid}]\n",
        "\n",
        "learning_rate_grid = [0.01, 0.1, 0.2, 0.3]\n",
        "max_iter_grid = [100, 200, 300]\n",
        "max_depth_grid = [None, 3, 5, 7]\n",
        "min_samples_leaf_grid = [1, 5, 10]\n",
        "\n",
        "param_grids['gbr'] = [{\n",
        "    'model__learning_rate': learning_rate_grid,\n",
        "    'model__max_iter': max_iter_grid,\n",
        "    'model__max_depth': max_depth_grid,\n",
        "    'model__min_samples_leaf': min_samples_leaf_grid\n",
        "}]\n",
        "\n",
        "param_grids['lgbm'] = {\n",
        "    'model__num_leaves': [31, 63, 127],\n",
        "    'model__learning_rate': [0.01, 0.1, 0.2],\n",
        "    'model__n_estimators': [50, 100, 200],\n",
        "    'model__max_depth': [-1, 3, 5] \n",
        "}\n",
        "\n",
        "directory = os.path.dirname(abspath_curr + 'result/cv_results/GridSearchCV/')\n",
        "if not os.path.exists(directory):\n",
        "    os.makedirs(directory)\n",
        "\n",
        "\n",
        "# The list of [best_score_, best_params_, best_estimator_] obtained by GridSearchCV\n",
        "best_score_params_estimator_gs = []\n",
        "\n",
        "def rmsle(y_true, y_pred):\n",
        "    y_true = np.array(y_true)\n",
        "    y_pred = np.array(y_pred)\n",
        "    assert len(y_true) == len(y_pred)\n",
        "    return np.sqrt(np.mean(np.square(np.log1p(y_pred) - np.log1p(y_true))))\n",
        "rmsle_scorer = make_scorer(rmsle, greater_is_better=False)\n",
        "# For each model\n",
        "for acronym in pipes.keys():\n",
        "    gs = RandomizedSearchCV(\n",
        "        estimator=pipes[acronym],\n",
        "        param_distributions=param_grids[acronym],\n",
        "        scoring=rmsle_scorer,\n",
        "        n_iter=50, \n",
        "        n_jobs=2,\n",
        "        cv=ps,\n",
        "        return_train_score=True)\n",
        "\n",
        "    # Fit the pipeline\n",
        "    gs = gs.fit(X_train_val, y_train_val)\n",
        "\n",
        "    # Update best_score_params_estimator_gs\n",
        "    best_score_params_estimator_gs.append([-gs.best_score_, gs.best_params_, gs.best_estimator_])\n",
        "\n",
        "    # Sort cv_results in ascending order of 'rank_test_score' and 'std_test_score'\n",
        "    cv_results = pd.DataFrame.from_dict(gs.cv_results_).sort_values(by=['rank_test_score', 'std_test_score'])\n",
        "\n",
        "    # Get the important columns in cv_results\n",
        "    important_columns = ['rank_test_score',\n",
        "                         'mean_test_score',\n",
        "                         'std_test_score',\n",
        "                         'mean_train_score',\n",
        "                         'std_train_score',\n",
        "                         'mean_fit_time',\n",
        "                         'std_fit_time',\n",
        "                         'mean_score_time',\n",
        "                         'std_score_time']\n",
        "\n",
        "    # Move the important columns ahead\n",
        "    cv_results = cv_results[important_columns + sorted(list(set(cv_results.columns) - set(important_columns)))]\n",
        "\n",
        "    # Write cv_results file\n",
        "    cv_results.to_csv(path_or_buf=abspath_curr + 'result/cv_results/GridSearchCV/' + acronym + '.csv', index=False)\n",
        "\n",
        "# Sort best_score_params_estimator_gs in descending order of the best_score_\n",
        "best_score_params_estimator_gs = sorted(best_score_params_estimator_gs, key=lambda x : x[0], reverse=True)\n",
        "\n",
        "# Print best_score_params_estimator_gs\n",
        "pd.DataFrame(best_score_params_estimator_gs, columns=['best_score', 'best_param', 'best_estimator'])"
      ]
    },
    {
      "cell_type": "markdown",
      "metadata": {
        "id": "kOF6id8le32I"
      },
      "source": [
        "# Model Selection"
      ]
    },
    {
      "cell_type": "code",
      "execution_count": 66,
      "metadata": {
        "id": "2jOsU_Nd285j"
      },
      "outputs": [],
      "source": [
        "# Implement me\n",
        "best_score_gs, best_params_gs, best_estimator_gs = best_score_params_estimator_gs[2]\n"
      ]
    },
    {
      "cell_type": "markdown",
      "metadata": {
        "id": "fiEBpqc_e32K"
      },
      "source": [
        "# Generating the Submission File\n",
        "Use the best model selected earlier to generate the submission file for this kaggle competition."
      ]
    },
    {
      "cell_type": "markdown",
      "metadata": {
        "id": "Aw5WYTRGz65s"
      },
      "source": [
        "## Creating the directory for the submission file"
      ]
    },
    {
      "cell_type": "code",
      "execution_count": 67,
      "metadata": {
        "id": "z0oLcggN0C9W"
      },
      "outputs": [],
      "source": [
        "# Make directory\n",
        "directory = os.path.dirname(abspath_curr + 'result/submission/')\n",
        "if not os.path.exists(directory):\n",
        "    os.makedirs(directory)"
      ]
    },
    {
      "cell_type": "markdown",
      "metadata": {
        "id": "y-Qf_8VM0Tt9"
      },
      "source": [
        "## Generating the submission file"
      ]
    },
    {
      "cell_type": "code",
      "execution_count": 68,
      "metadata": {
        "id": "mVdD3N0re32L",
        "scrolled": true
      },
      "outputs": [],
      "source": [
        "# Get the prediction on the testing data using best_model\n",
        "y_test_pred = best_estimator_gs.predict(X_test)\n",
        "\n",
        "# Get the dataframe of y_test_pred, which has the same shape as df_train\n",
        "df_y_test_pred = pd.DataFrame(np.tile(y_test_pred.reshape(-1, 1), df_train.shape[1]),\n",
        "                              columns=df_train.columns)\n",
        "\n",
        "# Transform df_y_test_pred back to the original scale\n",
        "df_y_test_pred = pd.DataFrame(ss.inverse_transform(df_y_test_pred),\n",
        "                              columns=df_train.columns)\n",
        "\n",
        "# Get the submission dataframe\n",
        "df_submit = pd.DataFrame(np.hstack((df_raw_test[['id']], df_y_test_pred[[target]])),\n",
        "                         columns=['id', target])\n",
        "\n",
        "# Generate the submission file\n",
        "df_submit.to_csv(abspath_curr + 'result/submission/submission.csv', index=False)"
      ]
    }
  ],
  "metadata": {
    "colab": {
      "provenance": []
    },
    "kernelspec": {
      "display_name": "Python 3",
      "language": "python",
      "name": "python3"
    },
    "language_info": {
      "codemirror_mode": {
        "name": "ipython",
        "version": 3
      },
      "file_extension": ".py",
      "mimetype": "text/x-python",
      "name": "python",
      "nbconvert_exporter": "python",
      "pygments_lexer": "ipython3",
      "version": "3.11.9"
    },
    "toc": {
      "base_numbering": 1,
      "nav_menu": {},
      "number_sections": true,
      "sideBar": true,
      "skip_h1_title": false,
      "title_cell": "Table of Contents",
      "title_sidebar": "Contents",
      "toc_cell": true,
      "toc_position": {},
      "toc_section_display": true,
      "toc_window_display": false
    }
  },
  "nbformat": 4,
  "nbformat_minor": 0
}
